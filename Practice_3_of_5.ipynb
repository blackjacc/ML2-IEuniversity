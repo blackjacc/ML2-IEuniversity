{
  "nbformat": 4,
  "nbformat_minor": 0,
  "metadata": {
    "hide_code_all_hidden": false,
    "kernelspec": {
      "display_name": "dataset-kernel",
      "language": "python",
      "name": "dataset-kernel"
    },
    "language_info": {
      "codemirror_mode": {
        "name": "ipython",
        "version": 3
      },
      "file_extension": ".py",
      "mimetype": "text/x-python",
      "name": "python",
      "nbconvert_exporter": "python",
      "pygments_lexer": "ipython3",
      "version": "3.7.7"
    },
    "toc": {
      "base_numbering": 1,
      "nav_menu": {},
      "number_sections": true,
      "sideBar": true,
      "skip_h1_title": false,
      "title_cell": "Table of Contents",
      "title_sidebar": "Contents",
      "toc_cell": true,
      "toc_position": {},
      "toc_section_display": true,
      "toc_window_display": false
    },
    "colab": {
      "name": "Practice on Feature Engineering and Evaluation Monday.ipynb",
      "provenance": [],
      "collapsed_sections": []
    }
  },
  "cells": [
    {
      "cell_type": "markdown",
      "metadata": {
        "hideCode": false,
        "hidePrompt": false,
        "id": "YrnrAFLgZDSw",
        "colab_type": "text"
      },
      "source": [
        "# Practice Session 1 (Sess #6)\n",
        "\n",
        "We're putting in practice what we need to know about feature engineering and model validation.\n",
        "\n",
        "The goal of this week is to practice on most of the topics, so I will experiment with a new (at least, for me) dataset that can be found [here](http://archive.ics.uci.edu/ml/datasets/Cylinder+Bands). It contains $p=39$ attributes or features, mixed between categorical, integer and real, with a total of $m=512$ samples. The target variable is the one called `band type`, taking the values `band` or `not band`.\n",
        "\n",
        "## Steps to be followed\n",
        "\n",
        "1. Read the dataset\n",
        "2. Data preparation: Check for variable types, NAs, values imputation, column names, scaling, encoding, etc.\n",
        "3. EDA (Exploratory Data Analysis): Try to extract some insights from the data like features completely uncorrelated or under-represented. Can we merge values from any of the categorical features? Would it be beneficial to discrretiza numerical features? Do we have outliers?\n",
        "3. Baseline: Simply take the simpler possible model (logistic regression) and set a base score that we'll try to improve along the process. To run logistic regression **you need** to have **numerical features**, so the fastest way of preparing your data to be used in `lr` is to perform _one hot encoding_. Perform this encoding so that you don't destroy the original prepared data. Consider to include onehot encoding as an step which is done right before evaluation over a copy of your prepared data.\n",
        "4. Feature Engineering: We will try\n",
        "    - categorical encoding: compare techniques like onehot and target encoding\n",
        "    - feature selection: compare the results from filtering, wrappers and regularization\n",
        "    - feature construction: compare GPLearn with _ad hoc_ methods, or Deep Feature Synthesis.\n",
        "5. Evaluation: the goal here is to fine tune our models, so, to do that we need a new model, like **decission trees**, in this case. We will experiment with:\n",
        "    - Cross validation and bootstrapping comparison.\n",
        "    - Fine tune tree parameters: pruning and parameters optimization."
      ]
    },
    {
      "cell_type": "markdown",
      "metadata": {
        "hideCode": false,
        "hidePrompt": false,
        "id": "salUSFPkZDSx",
        "colab_type": "text"
      },
      "source": [
        "# Read the dataset\n",
        "\n",
        "Uncomment the following line if you need to install the `dataset` package if you want to go faster, or use Pandas to read it directly."
      ]
    },
    {
      "cell_type": "code",
      "metadata": {
        "hideCode": false,
        "hidePrompt": false,
        "id": "QF0S-mm7ZDSy",
        "colab_type": "code",
        "colab": {}
      },
      "source": [
        "# pip install --upgrade git+http://github.com/renero/dataset\n",
        "# pip install skrebate\n",
        "# pip install gplearn"
      ],
      "execution_count": 1,
      "outputs": []
    },
    {
      "cell_type": "code",
      "metadata": {
        "id": "JhJjYdq1ZiIw",
        "colab_type": "code",
        "colab": {}
      },
      "source": [
        "# from google.colab import drive\n",
        "# drive.mount('/content/drive')"
      ],
      "execution_count": 2,
      "outputs": []
    },
    {
      "cell_type": "markdown",
      "metadata": {
        "id": "p8t1dViWZDS3",
        "colab_type": "text"
      },
      "source": [
        "Place all the imports at the top of the notebook."
      ]
    },
    {
      "cell_type": "code",
      "metadata": {
        "hideCode": false,
        "hidePrompt": false,
        "id": "LwYEAvn5ZDS4",
        "colab_type": "code",
        "colab": {
          "base_uri": "https://localhost:8080/",
          "height": 69
        },
        "outputId": "e4ddff26-ef53-4fd5-8a78-2b0487450123"
      },
      "source": [
        "from copy import copy\n",
        "from dataset import Dataset\n",
        "\n",
        "import math\n",
        "import matplotlib.pyplot as plt\n",
        "import numpy as np\n",
        "import pandas as pd\n",
        "\n",
        "from sklearn.experimental import enable_iterative_imputer\n",
        "from sklearn.impute import IterativeImputer\n",
        "from sklearn.model_selection import cross_val_score, train_test_split\n",
        "from sklearn.linear_model import LogisticRegression\n",
        "from sklearn.tree import DecisionTreeClassifier\n",
        "from sklearn_pandas import CategoricalImputer"
      ],
      "execution_count": 3,
      "outputs": [
        {
          "output_type": "stream",
          "text": [
            "/usr/local/lib/python3.6/dist-packages/statsmodels/tools/_testing.py:19: FutureWarning: pandas.util.testing is deprecated. Use the functions in the public API at pandas.testing instead.\n",
            "  import pandas.util.testing as tm\n"
          ],
          "name": "stderr"
        }
      ]
    },
    {
      "cell_type": "markdown",
      "metadata": {
        "id": "fTRl2boJZDS7",
        "colab_type": "text"
      },
      "source": [
        "Read the `bands.csv` file located in the same dir as this notebook. Remember to download the CSV file."
      ]
    },
    {
      "cell_type": "code",
      "metadata": {
        "hideCode": false,
        "hidePrompt": false,
        "scrolled": true,
        "id": "rKcgywXRZDS8",
        "colab_type": "code",
        "colab": {
          "base_uri": "https://localhost:8080/",
          "height": 280
        },
        "outputId": "915484d7-65a3-4653-8d7a-02256f6a840b"
      },
      "source": [
        "url = '/content/drive/My Drive/data/bands.csv'\n",
        "data:Dataset = Dataset(url) # 'data' is now holding the dataset object\n",
        "df = data.features  # 'df' is now holding the pandas DataFrame\n",
        "\n",
        "# Make the feature 'band_type' the target variable, and replace the labels\n",
        "# 'band' and 'noband' in the data for '1' and '0'\n",
        "data.features['band_type'] = data.features['band_type'].replace('noband', 0)\n",
        "data.features['band_type'] = data.features['band_type'].replace('band', 1)\n",
        "data.to_numerical('band_type').to_int('band_type')\n",
        "data.set_target('band_type')\n",
        "\n",
        "# I'm droping timestamp. I don't want to deal with time series at this point,\n",
        "# nor considering the timely variations of data.\n",
        "data.drop_columns('timestamp')\n",
        "\n",
        "data.describe()"
      ],
      "execution_count": 4,
      "outputs": [
        {
          "output_type": "stream",
          "text": [
            "38 Features. 539 Samples\n",
            "Available types: [dtype('O') dtype('float64')]\n",
            "  · 15 categorical features\n",
            "  · 23 numerical features\n",
            "  · 8 categorical features with NAs\n",
            "  · 20 numerical features with NAs\n",
            "  · 11 Complete features\n",
            "--\n",
            "Target: band_type (int64)\n",
            "'band_type'\n",
            "  · Min.: 0.0000\n",
            "  · 1stQ: 0.0000\n",
            "  · Med.: 0.0000\n",
            "  · Mean: 0.4212\n",
            "  · 3rdQ: 1.0000\n",
            "  · Max.: 1.0000\n"
          ],
          "name": "stdout"
        }
      ]
    },
    {
      "cell_type": "markdown",
      "metadata": {
        "hideCode": false,
        "hidePrompt": false,
        "id": "ojbjIJHbZDS-",
        "colab_type": "text"
      },
      "source": [
        "# Data Preparation\n",
        "\n",
        "You've a lot of NA's so you can explore imputation techniques here. Once that's check outliers, scale numerical variables, all to the same range, and you should be done.\n",
        "\n",
        "To know what features contain NA values, you can use `Dataset` property `data.incomplete_features` or look up for them in pandas using `is_na().any()` over columns."
      ]
    },
    {
      "cell_type": "code",
      "metadata": {
        "hideCode": false,
        "hidePrompt": false,
        "id": "gV2MePiRZDS_",
        "colab_type": "code",
        "colab": {
          "base_uri": "https://localhost:8080/",
          "height": 477
        },
        "outputId": "0bc1a155-f3ec-4e5b-9d77-fc7671e53a0f"
      },
      "source": [
        "# You can also use `data.numerical_features_na` or `data.categorical_features_na`\n",
        "data.incomplete_features"
      ],
      "execution_count": 5,
      "outputs": [
        {
          "output_type": "execute_result",
          "data": {
            "text/plain": [
              "['grain_screened',\n",
              " 'proof_on_ctd',\n",
              " 'blade_mfg',\n",
              " 'direct_steam',\n",
              " 'solvent_type',\n",
              " 'type_on_cylinder',\n",
              " 'cylinder_size',\n",
              " 'paper_mill_location',\n",
              " 'plating_tank',\n",
              " 'proof_cut',\n",
              " 'viscosity',\n",
              " 'caliper',\n",
              " 'ink_temperature',\n",
              " 'humifity',\n",
              " 'roughness',\n",
              " 'blade_pressure',\n",
              " 'varnish_pct',\n",
              " 'press_speed',\n",
              " 'ink_pct',\n",
              " 'solvent_pct',\n",
              " 'ESA_Voltage',\n",
              " 'ESA_Amperage',\n",
              " 'wax',\n",
              " 'hardener',\n",
              " 'roller_durometer',\n",
              " 'current_density',\n",
              " 'anode_space_ratio',\n",
              " 'chrome_content']"
            ]
          },
          "metadata": {
            "tags": []
          },
          "execution_count": 5
        }
      ]
    },
    {
      "cell_type": "markdown",
      "metadata": {
        "hideCode": false,
        "hidePrompt": false,
        "id": "SD8HONykZDTB",
        "colab_type": "text"
      },
      "source": [
        "Your first decision has to do with WHAT to do with NA's. Then, scale numerical variables, and finally check if all categorical variables are correctly encoded.\n",
        "\n",
        "I must count how many NA's do I have per incomplete feature ([info on how to do it on stackoverflow](https://stackoverflow.com/questions/26266362/how-to-count-the-nan-values-in-a-column-in-pandas-dataframe))."
      ]
    },
    {
      "cell_type": "code",
      "metadata": {
        "hideCode": false,
        "hidePrompt": false,
        "id": "vWCPc5gCZDTC",
        "colab_type": "code",
        "colab": {
          "base_uri": "https://localhost:8080/",
          "height": 32
        },
        "outputId": "3d4919b0-f405-4b1c-a390-15338231f6c0"
      },
      "source": [
        "# Get the number of NAs per feature\n",
        "num_nas = []\n",
        "for feature in data.incomplete_features:\n",
        "    num_nas.append(data.features[feature].isna().sum())\n",
        "print(f'{len(data.incomplete_features)} features have a median of {math.floor(np.median(num_nas))} NAs')"
      ],
      "execution_count": 6,
      "outputs": [
        {
          "output_type": "stream",
          "text": [
            "28 features have a median of 28 NAs\n"
          ],
          "name": "stdout"
        }
      ]
    },
    {
      "cell_type": "markdown",
      "metadata": {
        "hideCode": false,
        "hidePrompt": false,
        "id": "J7G9F6fjZDTE",
        "colab_type": "text"
      },
      "source": [
        "## Imputation and Scaling\n",
        "\n",
        "There are [several ways of imputing missing values](https://scikit-learn.org/stable/modules/impute.html#multivariate-feature-imputation). I'd like to use a multivariate approach, which is much better than univariate methods (imputing by the mean, etc.). To do so, I will use the methods available in `scikit-learn` library ([here](https://scikit-learn.org/stable/modules/impute.html#multivariate-feature-imputation))."
      ]
    },
    {
      "cell_type": "code",
      "metadata": {
        "hideCode": false,
        "hidePrompt": false,
        "hide_input": false,
        "id": "5Hv5DS0tZDTF",
        "colab_type": "code",
        "colab": {}
      },
      "source": [
        "num_imputer = IterativeImputer(max_iter=10, random_state=0)\n",
        "num_feats = num_imputer.fit_transform(data.features[data.numerical_features].values)"
      ],
      "execution_count": 7,
      "outputs": []
    },
    {
      "cell_type": "markdown",
      "metadata": {
        "id": "Z3apyh7kZDTH",
        "colab_type": "text"
      },
      "source": [
        "To perform imputaton on categorical variables, I decided to use a method provided by the library `sklearn_pandas` that implements a `CategoricalImputer`."
      ]
    },
    {
      "cell_type": "code",
      "metadata": {
        "id": "hPmlkl0tZDTI",
        "colab_type": "code",
        "colab": {}
      },
      "source": [
        "cat_imputer = CategoricalImputer()\n",
        "df = pd.DataFrame()\n",
        "for col in data.categorical_features_na:\n",
        "    df[col] = cat_imputer.fit_transform(data.features[col].values)\n",
        "ds = Dataset.from_dataframe(df)"
      ],
      "execution_count": 8,
      "outputs": []
    },
    {
      "cell_type": "markdown",
      "metadata": {
        "id": "ngpfTkniZDTK",
        "colab_type": "text"
      },
      "source": [
        "Finally, the result of imputing both: numerical and categorical, is now merged together in a single Dataset (or you can also use a dataframe, if you prefer)."
      ]
    },
    {
      "cell_type": "code",
      "metadata": {
        "hideCode": false,
        "hidePrompt": false,
        "hide_input": false,
        "scrolled": true,
        "id": "VSa9CBBxZDTL",
        "colab_type": "code",
        "colab": {}
      },
      "source": [
        "ds.add_columns(data.target)\n",
        "ds.set_target('band_type')\n",
        "\n",
        "# add the resulting imputed numerical features to the categorical imputed\n",
        "ds.add_columns(pd.DataFrame(num_feats, columns=data.numerical_features));"
      ],
      "execution_count": 9,
      "outputs": []
    },
    {
      "cell_type": "markdown",
      "metadata": {
        "id": "6rEODkPPZDTN",
        "colab_type": "text"
      },
      "source": [
        "Scale all the numeric values, at this point."
      ]
    },
    {
      "cell_type": "code",
      "metadata": {
        "id": "J32xn7ARZDTN",
        "colab_type": "code",
        "colab": {}
      },
      "source": [
        "del(data)\n",
        "data = ds.scale();"
      ],
      "execution_count": 10,
      "outputs": []
    },
    {
      "cell_type": "markdown",
      "metadata": {
        "id": "flVqyT5bZDTP",
        "colab_type": "text"
      },
      "source": [
        "Now, my dataset is ready to be analyzed. Lots of categorical and numerical variables."
      ]
    },
    {
      "cell_type": "markdown",
      "metadata": {
        "hideCode": false,
        "hidePrompt": false,
        "id": "-m3bwfd7ZDTP",
        "colab_type": "text"
      },
      "source": [
        "# EDA\n",
        "\n",
        "I will run a very short EDA as I don't want to condition your work. I will simply rely on basic counts and histograms against the target variable, to see if there's something wrong. I will use a method called `summary` to know better what's the status of each feature:"
      ]
    },
    {
      "cell_type": "code",
      "metadata": {
        "id": "NYwga4OpZDTQ",
        "colab_type": "code",
        "colab": {
          "base_uri": "https://localhost:8080/",
          "height": 580
        },
        "outputId": "c4bfed14-d231-4485-c753-784828c907a0"
      },
      "source": [
        "data.summary()"
      ],
      "execution_count": 11,
      "outputs": [
        {
          "output_type": "stream",
          "text": [
            "Features Summary (all):\n",
            "'grain_screened'     : object     2 categs. 'YES'(329, 0.6104) 'NO'(210, 0.3896) \n",
            "'proof_on_ctd'       : object     2 categs. 'YES'(517, 0.9592) 'NO'(22, 0.0408) \n",
            "'blade_mfg'          : object     2 categs. 'BENTON'(538, 0.9981) 'UDDEHOLM'(1, 0.0019) \n",
            "'direct_steam'       : object     3 categs. 'NO'(524, 0.9722) 'YES'(13, 0.0241) 'no'(2, 0.0037) \n",
            "'solvent_type'       : object     3 categs. 'LINE'(522, 0.9685) 'XYLOL'(15, 0.0278) 'NAPTHA'(2, 0.0037) \n",
            "'type_on_cylinder'   : object     4 categs. 'YES'(375, 0.6957) 'NO'(134, 0.2486) 'no'(28, 0.0519) 'yes'(2, 0.0037) \n",
            "'cylinder_size'      : object     6 categs. 'TABLOID'(284, 0.5269) 'CATALOG'(164, 0.3043) 'SPIEGEL'(54, 0.1002) 'catalog'(17, 0.0315) ...\n",
            "'paper_mill_location': object     6 categs. 'NorthUS'(344, 0.6382) 'CANADIAN'(158, 0.2931) 'CANAdiAN'(15, 0.0278) 'SCANDANAVIAN'(13, 0.0241) ...\n",
            "'job_number'         : float64    Min.(-1.6) 1stQ(-0.3) Med.(-0.1) Mean(-3.4) 3rdQ(0.02) Max.(5.83)\n",
            "'press'              : float64    Min.(-2.1) 1stQ(-0.3) Med.(-0.2) Mean(-4.9) 3rdQ(0.84) Max.(1.38)\n",
            "'unit_number'        : float64    Min.(-1.1) 1stQ(-0.8) Med.(-0.8) Mean(-2.1) 3rdQ(1.26) Max.(1.57)\n",
            "'plating_tank'       : float64    Min.(-0.7) 1stQ(-0.7) Med.(-0.7) Mean(-1.4) 3rdQ(1.34) Max.(1.34)\n",
            "'proof_cut'          : float64    Min.(-2.3) 1stQ(-0.5) Med.(-0.0) Mean(-6.7) 3rdQ(0.56) Max.(3.18)\n",
            "'viscosity'          : float64    Min.(-1.9) 1stQ(-0.9) Med.(-0.1) Mean(-2.0) 3rdQ(0.62) Max.(2.62)\n",
            "'caliper'            : float64    Min.(-2.1) 1stQ(-1.1) Med.(-0.1) Mean(3.58) 3rdQ(0.35) Max.(3.79)\n",
            "'ink_temperature'    : float64    Min.(-3.2) 1stQ(-0.5) Med.(-0.1) Mean(1.83) 3rdQ(0.49) Max.(7.16)\n",
            "'humifity'           : float64    Min.(-2.7) 1stQ(-0.7) Med.(-0.0) Mean(6.42) 3rdQ(0.44) Max.(3.42)\n",
            "'roughness'          : float64    Min.(-3.5) 1stQ(-0.5) Med.(0.13) Mean(-2.4) 3rdQ(0.46) Max.(2.79)\n",
            "'blade_pressure'     : float64    Min.(-1.7) 1stQ(-0.7) Med.(-0.1) Mean(1.67) 3rdQ(0.41) Max.(4.41)\n",
            "'varnish_pct'        : float64    Min.(-0.8) 1stQ(-0.8) Med.(-0.1) Mean(-1.8) 3rdQ(0.61) Max.(4.63)\n",
            "'press_speed'        : float64    Min.(-5.5) 1stQ(-0.6) Med.(-0.0) Mean(1.25) 3rdQ(0.62) Max.(2.36)\n",
            "'ink_pct'            : float64    Min.(-2.7) 1stQ(-0.5) Med.(0.05) Mean(-7.6) 3rdQ(0.59) Max.(4.03)\n",
            "'solvent_pct'        : float64    Min.(-4.9) 1stQ(-0.5) Med.(-0.0) Mean(-3.6) 3rdQ(0.79) Max.(4.47)\n",
            "'ESA_Voltage'        : float64    Min.(-0.5) 1stQ(-0.5) Med.(-0.5) Mean(-2.3) 3rdQ(0.29) Max.(6.29)\n",
            "'ESA_Amperage'       : float64    Min.(-0.1) 1stQ(-0.1) Med.(-0.1) Mean(1.54) 3rdQ(-0.1) Max.(15.1)\n",
            "'wax'                : float64    Min.(-4.4) 1stQ(0.00) Med.(0.18) Mean(-4.4) 3rdQ(0.37) Max.(1.29)\n",
            "'hardener'           : float64    Min.(-2.7) 1stQ(-0.5) Med.(0.03) Mean(1.50) 3rdQ(0.11) Max.(5.50)\n",
            "'roller_durometer'   : float64    Min.(-1.5) 1stQ(-1.1) Med.(-0.2) Mean(-8.8) 3rdQ(1.16) Max.(5.74)\n",
            "'current_density'    : float64    Min.(-3.8) 1stQ(0.40) Med.(0.40) Mean(-7.4) 3rdQ(0.40) Max.(2.54)\n",
            "'anode_space_ratio'  : float64    Min.(-3.9) 1stQ(-0.6) Med.(0.01) Mean(3.29) 3rdQ(0.68) Max.(2.98)\n",
            "'chrome_content'     : float64    Min.(-5.1) 1stQ(0.22) Med.(0.22) Mean(-4.8) 3rdQ(0.22) Max.(0.23)\n",
            "'band_type'          : int64      Min.(0) 1stQ(0.0) Med.(0.0) Mean(0.42) 3rdQ(1.0) Max.(1)\n"
          ],
          "name": "stdout"
        }
      ]
    },
    {
      "cell_type": "markdown",
      "metadata": {
        "hideCode": false,
        "hidePrompt": false,
        "id": "agscaiiaZDTS",
        "colab_type": "text"
      },
      "source": [
        "I also want to know how may samples belong to the class '1' and how many to class '0', simply to check if the data set is balanced (you can see that YES, it is)."
      ]
    },
    {
      "cell_type": "code",
      "metadata": {
        "id": "Ydw4MnThZDTS",
        "colab_type": "code",
        "colab": {
          "base_uri": "https://localhost:8080/",
          "height": 65
        },
        "outputId": "dd3089bd-73c8-436a-c918-92986a26fc31"
      },
      "source": [
        "data.target.value_counts()"
      ],
      "execution_count": 12,
      "outputs": [
        {
          "output_type": "execute_result",
          "data": {
            "text/plain": [
              "0    312\n",
              "1    227\n",
              "Name: band_type, dtype: int64"
            ]
          },
          "metadata": {
            "tags": []
          },
          "execution_count": 12
        }
      ]
    },
    {
      "cell_type": "markdown",
      "metadata": {
        "hideCode": false,
        "hidePrompt": false,
        "id": "fTDXjtOnZDTU",
        "colab_type": "text"
      },
      "source": [
        "Starting by knowing if there're underrepresented features: this is, values that are only present in a very small portion of the samples. I will use a method called, precisely, `under_represented_features()` from the Dataset library that will return those features presenting values under a given threshold."
      ]
    },
    {
      "cell_type": "code",
      "metadata": {
        "id": "SdNmJCMeZDTU",
        "colab_type": "code",
        "colab": {
          "base_uri": "https://localhost:8080/",
          "height": 32
        },
        "outputId": "affdaef1-8223-4beb-a922-841230a9db25"
      },
      "source": [
        "under_repr = data.under_represented_features(threshold=0.9)\n",
        "print(under_repr)"
      ],
      "execution_count": 13,
      "outputs": [
        {
          "output_type": "stream",
          "text": [
            "['proof_on_ctd', 'blade_mfg', 'direct_steam', 'solvent_type']\n"
          ],
          "name": "stdout"
        }
      ]
    },
    {
      "cell_type": "markdown",
      "metadata": {
        "id": "3F5bIZQfZDTW",
        "colab_type": "text"
      },
      "source": [
        "Let's see what's the situation in the categories of those clases. I will simply count the number of unique values present at each of those columns (above):"
      ]
    },
    {
      "cell_type": "code",
      "metadata": {
        "id": "GW-DIJsbZDTW",
        "colab_type": "code",
        "colab": {
          "base_uri": "https://localhost:8080/",
          "height": 378
        },
        "outputId": "9c54959e-9def-4b6d-8df6-6131bb7627e7"
      },
      "source": [
        "for col in under_repr:\n",
        "    print(col)\n",
        "    res = data.features[col].value_counts()\n",
        "    print(f'{res}\\n----')"
      ],
      "execution_count": 14,
      "outputs": [
        {
          "output_type": "stream",
          "text": [
            "proof_on_ctd\n",
            "YES    517\n",
            "NO      22\n",
            "Name: proof_on_ctd, dtype: int64\n",
            "----\n",
            "blade_mfg\n",
            "BENTON      538\n",
            "UDDEHOLM      1\n",
            "Name: blade_mfg, dtype: int64\n",
            "----\n",
            "direct_steam\n",
            "NO     524\n",
            "no      13\n",
            "YES      2\n",
            "Name: direct_steam, dtype: int64\n",
            "----\n",
            "solvent_type\n",
            "LINE      522\n",
            "XYLOL      15\n",
            "NAPTHA      2\n",
            "Name: solvent_type, dtype: int64\n",
            "----\n"
          ],
          "name": "stdout"
        }
      ]
    },
    {
      "cell_type": "markdown",
      "metadata": {
        "id": "fa9XrhgpZDTY",
        "colab_type": "text"
      },
      "source": [
        "From that result, we will remove those features, as they are not very informative (a priori). You can also combine them into a single feature by merging the four of them."
      ]
    },
    {
      "cell_type": "code",
      "metadata": {
        "id": "MQROEA2jZDTY",
        "colab_type": "code",
        "colab": {}
      },
      "source": [
        "data.drop_columns(under_repr);"
      ],
      "execution_count": 15,
      "outputs": []
    },
    {
      "cell_type": "markdown",
      "metadata": {
        "id": "2ide_1epZDTZ",
        "colab_type": "text"
      },
      "source": [
        "Taking a log at `paper_mill_location` you can also find how the values contain discrepancies in the upper and lower case used for encoding its values. The solution is to merge categories."
      ]
    },
    {
      "cell_type": "code",
      "metadata": {
        "id": "hKQvUu3LZDTZ",
        "colab_type": "code",
        "colab": {
          "base_uri": "https://localhost:8080/",
          "height": 131
        },
        "outputId": "b72e6586-ab31-4eaf-fd8a-4352904ec06f"
      },
      "source": [
        "data.features.paper_mill_location.value_counts()"
      ],
      "execution_count": 16,
      "outputs": [
        {
          "output_type": "execute_result",
          "data": {
            "text/plain": [
              "NorthUS         344\n",
              "CANADIAN        158\n",
              "mideuropean      15\n",
              "SCANDANAVIAN     13\n",
              "SouthUS           8\n",
              "CANAdiAN          1\n",
              "Name: paper_mill_location, dtype: int64"
            ]
          },
          "metadata": {
            "tags": []
          },
          "execution_count": 16
        }
      ]
    },
    {
      "cell_type": "markdown",
      "metadata": {
        "id": "mBbjhrYaZDTb",
        "colab_type": "text"
      },
      "source": [
        "We will (blindly) be a bit more agressive and merge also Scandinavian with mideuropean to form a new category called \"European\", and SouthUS with NorthUS to form a new one called \"NSAmerica\". We will also cleanup the case mess with the variable `type_on_cylinder` and `cylinder_size`."
      ]
    },
    {
      "cell_type": "code",
      "metadata": {
        "id": "wCNg5Cq_ZDTb",
        "colab_type": "code",
        "colab": {
          "base_uri": "https://localhost:8080/",
          "height": 82
        },
        "outputId": "8cf04aa8-a339-43ce-89c6-ed65e4dabc8f"
      },
      "source": [
        "data.merge_categories('paper_mill_location', old_values=['CANADIAN', 'CANAdiAN'], new_value='Canadian')\n",
        "data.merge_categories('paper_mill_location', old_values=['mideuropean', 'SCANDANAVIAN'], new_value='European')\n",
        "data.merge_categories('paper_mill_location', old_values=['NorthUS', 'SouthUS'], new_value='NSAmerica')\n",
        "data.merge_categories('type_on_cylinder', old_values=['YES', 'yes'], new_value='YES')\n",
        "data.merge_categories('type_on_cylinder', old_values=['NO', 'no'], new_value='NO')\n",
        "data.merge_categories('cylinder_size', old_values=['CATALOG', 'catalog'], new_value='CATALOG')\n",
        "data.merge_categories('cylinder_size', old_values=['TABLOID', 'tabloid'], new_value='CATALOG')\n",
        "data.merge_categories('cylinder_size', old_values=['SPIEGEL', 'spiegel'], new_value='SPIEGEL')\n",
        "print(data.features.paper_mill_location.value_counts())"
      ],
      "execution_count": 17,
      "outputs": [
        {
          "output_type": "stream",
          "text": [
            "NSAmerica    352\n",
            "Canadian     159\n",
            "European      28\n",
            "Name: paper_mill_location, dtype: int64\n"
          ],
          "name": "stdout"
        }
      ]
    },
    {
      "cell_type": "markdown",
      "metadata": {
        "id": "SC6PLepUZDTc",
        "colab_type": "text"
      },
      "source": [
        "Let's take a look at the histograms of the numerical values."
      ]
    },
    {
      "cell_type": "code",
      "metadata": {
        "id": "O7aDJ92hZDTd",
        "colab_type": "code",
        "colab": {
          "base_uri": "https://localhost:8080/",
          "height": 1000
        },
        "outputId": "f9b8eb0a-fbcf-4612-8010-6f3d3fa6569e"
      },
      "source": [
        "data.plot_histogram()"
      ],
      "execution_count": 18,
      "outputs": [
        {
          "output_type": "display_data",
          "data": {
            "image/png": "[encoded data removed]",
            "text/plain": [
              "<Figure size 1008x216 with 4 Axes>"
            ]
          },
          "metadata": {
            "tags": [],
            "needs_background": "light"
          }
        },
        {
          "output_type": "display_data",
          "data": {
            "image/png": "[encoded data removed]",
            "text/plain": [
              "<Figure size 1008x216 with 4 Axes>"
            ]
          },
          "metadata": {
            "tags": [],
            "needs_background": "light"
          }
        },
        {
          "output_type": "display_data",
          "data": {
            "image/png": "[encoded data removed]",
            "text/plain": [
              "<Figure size 1008x216 with 4 Axes>"
            ]
          },
          "metadata": {
            "tags": [],
            "needs_background": "light"
          }
        },
        {
          "output_type": "display_data",
          "data": {
            "image/png": "[encoded data removed]",
            "text/plain": [
              "<Figure size 1008x216 with 4 Axes>"
            ]
          },
          "metadata": {
            "tags": [],
            "needs_background": "light"
          }
        },
        {
          "output_type": "display_data",
          "data": {
            "image/png": "[encoded data removed]",
            "text/plain": [
              "<Figure size 1008x216 with 4 Axes>"
            ]
          },
          "metadata": {
            "tags": [],
            "needs_background": "light"
          }
        },
        {
          "output_type": "display_data",
          "data": {
            "image/png": "[encoded data removed]",
            "text/plain": [
              "<Figure size 1008x216 with 3 Axes>"
            ]
          },
          "metadata": {
            "tags": [],
            "needs_background": "light"
          }
        }
      ]
    },
    {
      "cell_type": "markdown",
      "metadata": {
        "id": "ANI-KEZYZDTe",
        "colab_type": "text"
      },
      "source": [
        "We could do many things (I hope you do!) but for the moment I'm simply removing (bad decision without checking what's the effect of this change) `ESA_Amperage` and `chrome_content` since they seem to be not very informative on the target variable."
      ]
    },
    {
      "cell_type": "code",
      "metadata": {
        "id": "0zjzzwTdZDTe",
        "colab_type": "code",
        "colab": {
          "base_uri": "https://localhost:8080/",
          "height": 461
        },
        "outputId": "68e2b047-6b03-4ffb-a78e-dd12ab3fd89e"
      },
      "source": [
        "data.drop_columns(['ESA_Amperage','chrome_content'])\n",
        "data.summary()"
      ],
      "execution_count": 19,
      "outputs": [
        {
          "output_type": "stream",
          "text": [
            "Features Summary (all):\n",
            "'grain_screened'     : object     2 categs. 'YES'(329, 0.6104) 'NO'(210, 0.3896) \n",
            "'type_on_cylinder'   : object     2 categs. 'YES'(403, 0.7477) 'NO'(136, 0.2523) \n",
            "'cylinder_size'      : object     2 categs. 'CATALOG'(479, 0.8887) 'SPIEGEL'(60, 0.1113) \n",
            "'paper_mill_location': object     3 categs. 'NSAmerica'(352, 0.6531) 'Canadian'(159, 0.2950) 'European'(28, 0.0519) \n",
            "'job_number'         : float64    Min.(-1.6) 1stQ(-0.3) Med.(-0.1) Mean(-3.4) 3rdQ(0.02) Max.(5.83)\n",
            "'press'              : float64    Min.(-2.1) 1stQ(-0.3) Med.(-0.2) Mean(-4.9) 3rdQ(0.84) Max.(1.38)\n",
            "'unit_number'        : float64    Min.(-1.1) 1stQ(-0.8) Med.(-0.8) Mean(-2.1) 3rdQ(1.26) Max.(1.57)\n",
            "'plating_tank'       : float64    Min.(-0.7) 1stQ(-0.7) Med.(-0.7) Mean(-1.4) 3rdQ(1.34) Max.(1.34)\n",
            "'proof_cut'          : float64    Min.(-2.3) 1stQ(-0.5) Med.(-0.0) Mean(-6.7) 3rdQ(0.56) Max.(3.18)\n",
            "'viscosity'          : float64    Min.(-1.9) 1stQ(-0.9) Med.(-0.1) Mean(-2.0) 3rdQ(0.62) Max.(2.62)\n",
            "'caliper'            : float64    Min.(-2.1) 1stQ(-1.1) Med.(-0.1) Mean(3.58) 3rdQ(0.35) Max.(3.79)\n",
            "'ink_temperature'    : float64    Min.(-3.2) 1stQ(-0.5) Med.(-0.1) Mean(1.83) 3rdQ(0.49) Max.(7.16)\n",
            "'humifity'           : float64    Min.(-2.7) 1stQ(-0.7) Med.(-0.0) Mean(6.42) 3rdQ(0.44) Max.(3.42)\n",
            "'roughness'          : float64    Min.(-3.5) 1stQ(-0.5) Med.(0.13) Mean(-2.4) 3rdQ(0.46) Max.(2.79)\n",
            "'blade_pressure'     : float64    Min.(-1.7) 1stQ(-0.7) Med.(-0.1) Mean(1.67) 3rdQ(0.41) Max.(4.41)\n",
            "'varnish_pct'        : float64    Min.(-0.8) 1stQ(-0.8) Med.(-0.1) Mean(-1.8) 3rdQ(0.61) Max.(4.63)\n",
            "'press_speed'        : float64    Min.(-5.5) 1stQ(-0.6) Med.(-0.0) Mean(1.25) 3rdQ(0.62) Max.(2.36)\n",
            "'ink_pct'            : float64    Min.(-2.7) 1stQ(-0.5) Med.(0.05) Mean(-7.6) 3rdQ(0.59) Max.(4.03)\n",
            "'solvent_pct'        : float64    Min.(-4.9) 1stQ(-0.5) Med.(-0.0) Mean(-3.6) 3rdQ(0.79) Max.(4.47)\n",
            "'ESA_Voltage'        : float64    Min.(-0.5) 1stQ(-0.5) Med.(-0.5) Mean(-2.3) 3rdQ(0.29) Max.(6.29)\n",
            "'wax'                : float64    Min.(-4.4) 1stQ(0.00) Med.(0.18) Mean(-4.4) 3rdQ(0.37) Max.(1.29)\n",
            "'hardener'           : float64    Min.(-2.7) 1stQ(-0.5) Med.(0.03) Mean(1.50) 3rdQ(0.11) Max.(5.50)\n",
            "'roller_durometer'   : float64    Min.(-1.5) 1stQ(-1.1) Med.(-0.2) Mean(-8.8) 3rdQ(1.16) Max.(5.74)\n",
            "'current_density'    : float64    Min.(-3.8) 1stQ(0.40) Med.(0.40) Mean(-7.4) 3rdQ(0.40) Max.(2.54)\n",
            "'anode_space_ratio'  : float64    Min.(-3.9) 1stQ(-0.6) Med.(0.01) Mean(3.29) 3rdQ(0.68) Max.(2.98)\n",
            "'band_type'          : int64      Min.(0) 1stQ(0.0) Med.(0.0) Mean(0.42) 3rdQ(1.0) Max.(1)\n"
          ],
          "name": "stdout"
        }
      ]
    },
    {
      "cell_type": "markdown",
      "metadata": {
        "hideCode": false,
        "hidePrompt": false,
        "id": "FgcxzXqqZDTf",
        "colab_type": "text"
      },
      "source": [
        "# Baseline"
      ]
    },
    {
      "cell_type": "markdown",
      "metadata": {
        "id": "772U0c25ZDTf",
        "colab_type": "text"
      },
      "source": [
        "I will build a method to evaluate a basic logistic regression over a split of the data set using cross validation.\n",
        "\n",
        "The method requires that you send it the independent variables (X) and the dependent variables (y) as a pandas DataFrame. We can access the dataframe inside the `Dataset` by calling, either, `.features` or `.target`."
      ]
    },
    {
      "cell_type": "code",
      "metadata": {
        "id": "MRjOX_hxZDTf",
        "colab_type": "code",
        "colab": {}
      },
      "source": [
        "from sklearn.metrics import accuracy_score, f1_score, recall_score, matthews_corrcoef\n",
        "\n",
        "def evaluate_LogReg(X: pd.DataFrame, y: pd.DataFrame,\n",
        "                    metric: str='F1',\n",
        "                    seed: int=123,\n",
        "                    printout: bool=False):\n",
        "    \"\"\"\n",
        "    Fits a logistic regression with the training set, and evaluates it with \n",
        "    the test set, using Accuracy, F1, Recall or MCC metrics.\n",
        "\n",
        "    Params\n",
        "      X: A Pandas DataFrame with all the values to be used to fit the logit\n",
        "      y: The dependent variable.\n",
        "      metric: The metric to be returned\n",
        "      printout: True/False indicating whether you want to print results\n",
        "\n",
        "    \"\"\"\n",
        "    # Split the data is the first thing to do\n",
        "    X_train, X_test, y_train, y_test = train_test_split(\n",
        "        X, y, test_size=0.2)\n",
        "\n",
        "    lr = LogisticRegression().fit(X_train, y_train)\n",
        "    y_hat = lr.predict(X_test)\n",
        "\n",
        "    accuracy = accuracy_score(y_test, y_hat)\n",
        "    F1 = f1_score(y_test, y_hat)\n",
        "    recall = recall_score(y_test, y_hat)\n",
        "    MCC = matthews_corrcoef(y_test, y_hat)\n",
        "    \n",
        "    if printout is True:\n",
        "        print('Accuracy:', accuracy)\n",
        "        print('F1:', F1)\n",
        "        print('Recall:', recall)\n",
        "        print('MCC:', MCC)\n",
        "    \n",
        "    return eval(metric)"
      ],
      "execution_count": 20,
      "outputs": []
    },
    {
      "cell_type": "markdown",
      "metadata": {
        "id": "5az2g6C8nMpA",
        "colab_type": "text"
      },
      "source": [
        "Let's run the **baseline**. We will simply call our method with the numerical features only, simply to see what is the expected F1 metric. Ideally, we should call the evaluation method with all our features, but to do so, we must convert our categorical features into numbers. For baselining, we can start by simply applying a **onehot** encoding to them to see what is the result.\n",
        "\n",
        "# Basline with numerical features only\n",
        "\n",
        "To start with, let's simply use numericals:"
      ]
    },
    {
      "cell_type": "code",
      "metadata": {
        "hideCode": false,
        "hidePrompt": false,
        "id": "vBHokEQxZDTg",
        "colab_type": "code",
        "colab": {
          "base_uri": "https://localhost:8080/",
          "height": 32
        },
        "outputId": "1b08918e-2888-4a5e-cf8d-82e9a52fcf7b"
      },
      "source": [
        "evaluate_LogReg(data.numerical, data.target)"
      ],
      "execution_count": 21,
      "outputs": [
        {
          "output_type": "execute_result",
          "data": {
            "text/plain": [
              "0.5555555555555556"
            ]
          },
          "metadata": {
            "tags": []
          },
          "execution_count": 21
        }
      ]
    },
    {
      "cell_type": "markdown",
      "metadata": {
        "id": "pmsclXBEnscy",
        "colab_type": "text"
      },
      "source": [
        "Now, we will try to onehot our categoricals to apply the LogisticRegression to all our features. We will use a copy of the dataset since we do not want to premanently encode our data with that scheme.\n",
        "\n",
        "# Basline with all features (onehot)\n",
        "\n",
        "I will use Dataset method `onehot_encode` but you can use Pandas `get_dummies` or the one provided by `scikit learn`.\n",
        "\n",
        "as you can see, the result is a Dataset with 30 numerical variables, instead of the original combination of 21 numericals + 4 categoricals."
      ]
    },
    {
      "cell_type": "code",
      "metadata": {
        "id": "Mang7SPboGZr",
        "colab_type": "code",
        "colab": {
          "base_uri": "https://localhost:8080/",
          "height": 280
        },
        "outputId": "165a78d5-6e21-4a43-9d7a-753318efe2d5"
      },
      "source": [
        "# Get a copy of data\n",
        "from copy import deepcopy\n",
        "data_copy = deepcopy(data)\n",
        "\n",
        "# Onehot\n",
        "data_copy.onehot_encode()\n",
        "data_copy.describe()"
      ],
      "execution_count": 22,
      "outputs": [
        {
          "output_type": "stream",
          "text": [
            "30 Features. 539 Samples\n",
            "Available types: [dtype('float64')]\n",
            "  · 0 categorical features\n",
            "  · 30 numerical features\n",
            "  · 0 categorical features with NAs\n",
            "  · 0 numerical features with NAs\n",
            "  · 31 Complete features\n",
            "--\n",
            "Target: band_type (int64)\n",
            "'band_type'\n",
            "  · Min.: 0.0000\n",
            "  · 1stQ: 0.0000\n",
            "  · Med.: 0.0000\n",
            "  · Mean: 0.4212\n",
            "  · 3rdQ: 1.0000\n",
            "  · Max.: 1.0000\n"
          ],
          "name": "stdout"
        }
      ]
    },
    {
      "cell_type": "code",
      "metadata": {
        "id": "1ntdLStiowkc",
        "colab_type": "code",
        "colab": {
          "base_uri": "https://localhost:8080/",
          "height": 32
        },
        "outputId": "031797ab-3005-4321-995b-1c7fbaa3d1c9"
      },
      "source": [
        "# Call the evaluation method with all data in the Dataset.\n",
        "evaluate_LogReg(data_copy.features, data_copy.target)"
      ],
      "execution_count": 23,
      "outputs": [
        {
          "output_type": "execute_result",
          "data": {
            "text/plain": [
              "0.6415094339622641"
            ]
          },
          "metadata": {
            "tags": []
          },
          "execution_count": 23
        }
      ]
    },
    {
      "cell_type": "markdown",
      "metadata": {
        "id": "zLG-6Ufvpusd",
        "colab_type": "text"
      },
      "source": [
        "It seems that adding the categorical features produces a different result. However, if you remember the rules of Logit we must avoid co-linearity, variables which are not completely independent or even not normal distributions.\n",
        "\n",
        "We will simplify later on the evaluation by using a simpler model.\n",
        "\n",
        "## Problems with this baseline\n",
        "\n",
        "However, we cannot evaluate a model like I proposed before. To demostrate what is the problem, I will call the same method 100 times, storing its result each time in a list, to later plot it."
      ]
    },
    {
      "cell_type": "code",
      "metadata": {
        "id": "0ciPAhxucDhq",
        "colab_type": "code",
        "colab": {
          "base_uri": "https://localhost:8080/",
          "height": 280
        },
        "outputId": "fdab2d3e-157f-4e08-b814-6a8a13567ff9"
      },
      "source": [
        "my_list = []\n",
        "for _ in range(20):\n",
        "    result = evaluate_LogReg(data_copy.features, data_copy.target)\n",
        "    my_list.append(result)\n",
        "plt.scatter(range(20), my_list)"
      ],
      "execution_count": 27,
      "outputs": [
        {
          "output_type": "execute_result",
          "data": {
            "text/plain": [
              "<matplotlib.collections.PathCollection at 0x7f317690d9b0>"
            ]
          },
          "metadata": {
            "tags": []
          },
          "execution_count": 27
        },
        {
          "output_type": "display_data",
          "data": {
            "image/png": "[encoded data removed]",
            "text/plain": [
              "<Figure size 432x288 with 1 Axes>"
            ]
          },
          "metadata": {
            "tags": [],
            "needs_background": "light"
          }
        }
      ]
    },
    {
      "cell_type": "markdown",
      "metadata": {
        "id": "A6T-V9nNcU43",
        "colab_type": "text"
      },
      "source": [
        "We've obtained 100 different values for the evaluation of the baseline. Which one is the good one? The highest value? The lowest? The average? The median? ....\n",
        "\n",
        "None of them... this plot simply illustrates that if you split your dataset 100 times, you train your model with different portions of the data 100 times, producing 100 different results.\n",
        "\n",
        "To avoid this _variance_ in results, we want to estimate what will be the expected result in test. To achieve that we use **cross validation**. The idea is to split the data a number of times but use the average test score obtained from all of them as a reasonable estimation of what to expect from this model."
      ]
    },
    {
      "cell_type": "markdown",
      "metadata": {
        "id": "mV-UDxECbjMN",
        "colab_type": "text"
      },
      "source": [
        "## Cross Validation \n",
        "\n",
        "To evaluate our model in a slightly simpler way, let's use this method: `cv_classification`. It accepts a Dataset as input, and an `estimator`, which is simply the model I want to use.\n",
        "\n",
        "Internally, it will repeat a number of times (`num_iterations`) the following steps:\n",
        "\n",
        "  1. Randomly split the data set into training and test\n",
        "  2. Fit the estimator with the training portion of the data\n",
        "  3. Obtain a CV metric in training for this model\n",
        "  4. Obtain a metric in test for the predictions obtained with the model just fitted in step 2\n",
        "  5. Save the scores in an array to later return all of them"
      ]
    },
    {
      "cell_type": "code",
      "metadata": {
        "id": "OPM3ncUf8N0Y",
        "colab_type": "code",
        "colab": {}
      },
      "source": [
        "def cv_classification(my_dataset, estimator, num_iterations=20):\n",
        "    train_scores=[]\n",
        "    test_scores=[]\n",
        "    for i in range(num_iterations):\n",
        "        X, y = my_dataset.split(seed=23*i ^ 2)\n",
        "\n",
        "        # We want to call a method whose name is the argument to this func.\n",
        "        estimator.fit(X.train, y.train)\n",
        "        train_metric = cross_val_score(estimator, X.train, y.train, scoring='f1')\n",
        "        train_scores.append(np.median(train_metric))\n",
        "\n",
        "        test_score = f1_score(y.test, estimator.predict(X.test))\n",
        "        test_scores.append(test_score)\n",
        "\n",
        "    print('Training median F1: {:.4f} +/- {:.2f}%'.format(\n",
        "        np.median(train_scores), np.std(train_scores)*100.))\n",
        "    print('Test F1: {:.4f} +/- {:.2f}%'.format(\n",
        "        np.median(test_scores), np.std(test_scores)*100.))\n",
        "\n",
        "    return train_scores, test_scores"
      ],
      "execution_count": 30,
      "outputs": []
    },
    {
      "cell_type": "markdown",
      "metadata": {
        "id": "LG6Q2T1llqiI",
        "colab_type": "text"
      },
      "source": [
        "So, if we decide to use the method above to score our Linear Regression model using cross validation (20 iterations), what we have to do is the following:"
      ]
    },
    {
      "cell_type": "code",
      "metadata": {
        "id": "P5BC2e96QCuP",
        "colab_type": "code",
        "colab": {
          "base_uri": "https://localhost:8080/",
          "height": 49
        },
        "outputId": "4859ef66-37df-45a8-b848-5320dd200cb5"
      },
      "source": [
        "lr = LogisticRegression()\n",
        "train_lr_scores, test_lr_scores = cv_classification(data_copy, lr)"
      ],
      "execution_count": 34,
      "outputs": [
        {
          "output_type": "stream",
          "text": [
            "Training median F1: 0.5617 +/- 3.10%\n",
            "Test F1: 0.5407 +/- 4.50%\n"
          ],
          "name": "stdout"
        }
      ]
    },
    {
      "cell_type": "markdown",
      "metadata": {
        "id": "lX4zp5yzmH17",
        "colab_type": "text"
      },
      "source": [
        "The interpretation from these training and test scores is the following:\n",
        "\n",
        "* Our model, in training, is capable of achieving a 56.17% F1 score, with a variance of 3.1%. This is useful to check if our training is getting very high results (overfitting) or very high variance (data contains too much noise).\n",
        "* Our model is expected to throw a F1 of 54% (+/- 4.5%) when predicting over unseen data.\n",
        "* Since performance test is a bit below training performance, that means that we're not overfitting, and that our model is generalizing correctly. If test performance were better than training performance, that's an indication that your training can be improved by tuning a bit more your parameters (too much bias).\n",
        "\n"
      ]
    },
    {
      "cell_type": "markdown",
      "metadata": {
        "id": "tznHn84-boxq",
        "colab_type": "text"
      },
      "source": [
        "## Baseline with decision tree\n",
        "\n",
        "To make things a bit simpler in our baseline, we will use a decision tree. Spending too much time cleaning our data to fit normal distributions and finding co-linearity could not be worthy in the end. So, let's try to produce a quick baseline with a single decision tree."
      ]
    },
    {
      "cell_type": "code",
      "metadata": {
        "id": "JjmCmTJtJmAT",
        "colab_type": "code",
        "colab": {
          "base_uri": "https://localhost:8080/",
          "height": 49
        },
        "outputId": "29cc1778-4644-43e3-b3fd-439714f8ae31"
      },
      "source": [
        "baseline_tree = DecisionTreeClassifier(random_state=123)\n",
        "train_tree_score, test_tree_score = cv_classification(data_copy, baseline_tree)"
      ],
      "execution_count": 36,
      "outputs": [
        {
          "output_type": "stream",
          "text": [
            "Training median F1: 0.6260 +/- 2.99%\n",
            "Test F1: 0.6704 +/- 7.95%\n"
          ],
          "name": "stdout"
        }
      ]
    },
    {
      "cell_type": "markdown",
      "metadata": {
        "hideCode": false,
        "hidePrompt": false,
        "id": "eDAbh9elZDTh",
        "colab_type": "text"
      },
      "source": [
        "# Feature Engineering"
      ]
    },
    {
      "cell_type": "code",
      "metadata": {
        "hideCode": false,
        "hidePrompt": false,
        "id": "UJtTZhDtZDTh",
        "colab_type": "code",
        "colab": {}
      },
      "source": [
        ""
      ],
      "execution_count": null,
      "outputs": []
    },
    {
      "cell_type": "markdown",
      "metadata": {
        "hideCode": false,
        "hidePrompt": false,
        "id": "xY_MrLaKZDTi",
        "colab_type": "text"
      },
      "source": [
        "# Evaluation and Validation"
      ]
    },
    {
      "cell_type": "markdown",
      "metadata": {
        "hideCode": false,
        "hidePrompt": false,
        "id": "YAFWzcGUZDTj",
        "colab_type": "text"
      },
      "source": [
        ""
      ]
    }
  ]
}