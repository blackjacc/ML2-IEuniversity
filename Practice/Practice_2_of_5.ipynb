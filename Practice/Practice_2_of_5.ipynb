{
 "cells": [
  {
   "cell_type": "markdown",
   "metadata": {
    "hideCode": false,
    "hidePrompt": false,
    "toc": true
   },
   "source": [
    "<h1>Table of Contents<span class=\"tocSkip\"></span></h1>\n",
    "<div class=\"toc\"><ul class=\"toc-item\"><li><span><a href=\"#Practice-Session-1-(Sess-#6)\" data-toc-modified-id=\"Practice-Session-1-(Sess-#6)-1\"><span class=\"toc-item-num\">1&nbsp;&nbsp;</span>Practice Session 1 (Sess #6)</a></span><ul class=\"toc-item\"><li><span><a href=\"#Steps-to-be-followed\" data-toc-modified-id=\"Steps-to-be-followed-1.1\"><span class=\"toc-item-num\">1.1&nbsp;&nbsp;</span>Steps to be followed</a></span></li></ul></li><li><span><a href=\"#Read-the-dataset\" data-toc-modified-id=\"Read-the-dataset-2\"><span class=\"toc-item-num\">2&nbsp;&nbsp;</span>Read the dataset</a></span></li><li><span><a href=\"#Data-Preparation\" data-toc-modified-id=\"Data-Preparation-3\"><span class=\"toc-item-num\">3&nbsp;&nbsp;</span>Data Preparation</a></span><ul class=\"toc-item\"><li><span><a href=\"#Imputation-and-Scaling\" data-toc-modified-id=\"Imputation-and-Scaling-3.1\"><span class=\"toc-item-num\">3.1&nbsp;&nbsp;</span>Imputation and Scaling</a></span></li></ul></li><li><span><a href=\"#EDA\" data-toc-modified-id=\"EDA-4\"><span class=\"toc-item-num\">4&nbsp;&nbsp;</span>EDA</a></span></li><li><span><a href=\"#Baseline\" data-toc-modified-id=\"Baseline-5\"><span class=\"toc-item-num\">5&nbsp;&nbsp;</span>Baseline</a></span></li><li><span><a href=\"#Feature-Engineering\" data-toc-modified-id=\"Feature-Engineering-6\"><span class=\"toc-item-num\">6&nbsp;&nbsp;</span>Feature Engineering</a></span></li><li><span><a href=\"#Evaluation-and-Validation\" data-toc-modified-id=\"Evaluation-and-Validation-7\"><span class=\"toc-item-num\">7&nbsp;&nbsp;</span>Evaluation and Validation</a></span></li></ul></div>"
   ]
  },
  {
   "cell_type": "markdown",
   "metadata": {
    "hideCode": false,
    "hidePrompt": false
   },
   "source": [
    "# Practice Session 1 (Sess #6)\n",
    "\n",
    "We're putting in practice what we need to know about feature engineering and model validation.\n",
    "\n",
    "The goal of this week is to practice on most of the topics, so I will experiment with a new (at least, for me) dataset that can be found [here](http://archive.ics.uci.edu/ml/datasets/Cylinder+Bands). It contains $p=39$ attributes or features, mixed between categorical, integer and real, with a total of $m=512$ samples. The target variable is the one called `band type`, taking the values `band` or `not band`.\n",
    "\n",
    "## Steps to be followed\n",
    "\n",
    "1. Read the dataset\n",
    "2. Data preparation: Check for variable types, NAs, values imputation, column names, scaling, encoding, etc.\n",
    "3. EDA (Exploratory Data Analysis): Try to extract some insights from the data like features completely uncorrelated or under-represented. Can we merge values from any of the categorical features? Would it be beneficial to discrretiza numerical features? Do we have outliers?\n",
    "3. Baseline: Simply take the simpler possible model (logistic regression) and set a base score that we'll try to improve along the process. To run logistic regression **you need** to have **numerical features**, so the fastest way of preparing your data to be used in `lr` is to perform _one hot encoding_. Perform this encoding so that you don't destroy the original prepared data. Consider to include onehot encoding as an step which is done right before evaluation over a copy of your prepared data.\n",
    "4. Feature Engineering: We will try\n",
    "    - categorical encoding: compare techniques like onehot and target encoding\n",
    "    - feature selection: compare the results from filtering, wrappers and regularization\n",
    "    - feature construction: compare GPLearn with _ad hoc_ methods, or Deep Feature Synthesis.\n",
    "5. Evaluation: the goal here is to fine tune our models, so, to do that we need a new model, like **decission trees**, in this case. We will experiment with:\n",
    "    - Cross validation and bootstrapping comparison.\n",
    "    - Fine tune tree parameters: pruning and parameters optimization."
   ]
  },
  {
   "cell_type": "markdown",
   "metadata": {
    "hideCode": false,
    "hidePrompt": false
   },
   "source": [
    "# Read the dataset\n",
    "\n",
    "Uncomment the following line if you need to install the `dataset` package if you want to go faster, or use Pandas to read it directly."
   ]
  },
  {
   "cell_type": "code",
   "execution_count": 1,
   "metadata": {
    "hideCode": false,
    "hidePrompt": false
   },
   "outputs": [],
   "source": [
    "# !pip install --upgrade git+http://github.com/renero/dataset"
   ]
  },
  {
   "cell_type": "markdown",
   "metadata": {},
   "source": [
    "Place all the imports at the top of the notebook."
   ]
  },
  {
   "cell_type": "code",
   "execution_count": 2,
   "metadata": {
    "hideCode": false,
    "hidePrompt": false
   },
   "outputs": [
    {
     "name": "stderr",
     "output_type": "stream",
     "text": [
      "/Users/renero/.virtualenvs/dataset/lib/python3.7/site-packages/sklearn/externals/joblib/__init__.py:15: FutureWarning: sklearn.externals.joblib is deprecated in 0.21 and will be removed in 0.23. Please import this functionality directly from joblib, which can be installed with: pip install joblib. If this warning is raised when loading pickled models, you may need to re-serialize those models with scikit-learn 0.21+.\n",
      "  warnings.warn(msg, category=FutureWarning)\n"
     ]
    }
   ],
   "source": [
    "from copy import copy\n",
    "from dataset import Dataset\n",
    "\n",
    "import math\n",
    "import matplotlib.pyplot as plt\n",
    "import numpy as np\n",
    "import pandas as pd\n",
    "\n",
    "from sklearn.experimental import enable_iterative_imputer\n",
    "from sklearn.impute import IterativeImputer\n",
    "from sklearn_pandas import CategoricalImputer"
   ]
  },
  {
   "cell_type": "markdown",
   "metadata": {},
   "source": [
    "Read the `bands.csv` file located in the same dir as this notebook. Remember to download the CSV file."
   ]
  },
  {
   "cell_type": "code",
   "execution_count": 3,
   "metadata": {
    "hideCode": false,
    "hidePrompt": false,
    "scrolled": true
   },
   "outputs": [
    {
     "name": "stdout",
     "output_type": "stream",
     "text": [
      "38 Features. 539 Samples\n",
      "Available types: [dtype('O') dtype('float64')]\n",
      "  · 15 categorical features\n",
      "  · 23 numerical features\n",
      "  · 8 categorical features with NAs\n",
      "  · 20 numerical features with NAs\n",
      "  · 11 Complete features\n",
      "--\n",
      "Target: band_type (int64)\n",
      "'band_type'\n",
      "  · Min.: 0.0000\n",
      "  · 1stQ: 0.0000\n",
      "  · Med.: 0.0000\n",
      "  · Mean: 0.4212\n",
      "  · 3rdQ: 1.0000\n",
      "  · Max.: 1.0000\n"
     ]
    }
   ],
   "source": [
    "url = 'bands.csv'\n",
    "data:Dataset = Dataset(url) # 'data' is now holding the dataset object\n",
    "df = data.features  # 'df' is now holding the pandas DataFrame\n",
    "\n",
    "# Make the feature 'band_type' the target variable, and replace the labels\n",
    "# 'band' and 'noband' in the data for '1' and '0'\n",
    "data.set_target('band_type')\n",
    "data.target = data.target.replace('noband', 0)\n",
    "data.target = data.target.replace('band', 1)\n",
    "\n",
    "# I'm droping timestamp. I don't want to deal with time series at this point,\n",
    "# nor considering the timely variations of data.\n",
    "data.drop_columns('timestamp')\n",
    "\n",
    "data.describe()"
   ]
  },
  {
   "cell_type": "markdown",
   "metadata": {
    "hideCode": false,
    "hidePrompt": false,
    "slideshow": {
     "slide_type": "subslide"
    }
   },
   "source": [
    "# Data Preparation\n",
    "\n",
    "You've a lot of NA's so you can explore imputation techniques here. Once that's check outliers, scale numerical variables, all to the same range, and you should be done.\n",
    "\n",
    "To know what features contain NA values, you can use `Dataset` property `data.incomplete_features` or look up for them in pandas using `is_na().any()` over columns."
   ]
  },
  {
   "cell_type": "code",
   "execution_count": 4,
   "metadata": {
    "hideCode": false,
    "hidePrompt": false
   },
   "outputs": [
    {
     "data": {
      "text/plain": [
       "['grain_screened',\n",
       " 'proof_on_ctd',\n",
       " 'blade_mfg',\n",
       " 'direct_steam',\n",
       " 'solvent_type',\n",
       " 'type_on_cylinder',\n",
       " 'cylinder_size',\n",
       " 'paper_mill_location',\n",
       " 'plating_tank',\n",
       " 'proof_cut',\n",
       " 'viscosity',\n",
       " 'caliper',\n",
       " 'ink_temperature',\n",
       " 'humifity',\n",
       " 'roughness',\n",
       " 'blade_pressure',\n",
       " 'varnish_pct',\n",
       " 'press_speed',\n",
       " 'ink_pct',\n",
       " 'solvent_pct',\n",
       " 'ESA_Voltage',\n",
       " 'ESA_Amperage',\n",
       " 'wax',\n",
       " 'hardener',\n",
       " 'roller_durometer',\n",
       " 'current_density',\n",
       " 'anode_space_ratio',\n",
       " 'chrome_content']"
      ]
     },
     "execution_count": 4,
     "metadata": {},
     "output_type": "execute_result"
    }
   ],
   "source": [
    "# You can also use `data.numerical_features_na` or `data.categorical_features_na`\n",
    "data.incomplete_features"
   ]
  },
  {
   "cell_type": "markdown",
   "metadata": {
    "hideCode": false,
    "hidePrompt": false
   },
   "source": [
    "Your first decision has to do with WHAT to do with NA's. Then, scale numerical variables, and finally check if all categorical variables are correctly encoded.\n",
    "\n",
    "I must count how many NA's do I have per incomplete feature ([info on how to do it on stackoverflow](https://stackoverflow.com/questions/26266362/how-to-count-the-nan-values-in-a-column-in-pandas-dataframe))."
   ]
  },
  {
   "cell_type": "code",
   "execution_count": 5,
   "metadata": {
    "hideCode": false,
    "hidePrompt": false
   },
   "outputs": [
    {
     "name": "stdout",
     "output_type": "stream",
     "text": [
      "28 features have a median of 28 NAs\n"
     ]
    }
   ],
   "source": [
    "# Get the number of NAs per feature\n",
    "num_nas = []\n",
    "for feature in data.incomplete_features:\n",
    "    num_nas.append(data.features[feature].isna().sum())\n",
    "print(f'{len(data.incomplete_features)} features have a median of {math.floor(np.median(num_nas))} NAs')"
   ]
  },
  {
   "cell_type": "markdown",
   "metadata": {
    "hideCode": false,
    "hidePrompt": false
   },
   "source": [
    "## Imputation and Scaling\n",
    "\n",
    "There are [several ways of imputing missing values](https://scikit-learn.org/stable/modules/impute.html#multivariate-feature-imputation). I'd like to use a multivariate approach, which is much better than univariate methods (imputing by the mean, etc.). To do so, I will use the methods available in `scikit-learn` library ([here](https://scikit-learn.org/stable/modules/impute.html#multivariate-feature-imputation))."
   ]
  },
  {
   "cell_type": "code",
   "execution_count": 6,
   "metadata": {
    "hideCode": false,
    "hidePrompt": false,
    "hide_input": false
   },
   "outputs": [],
   "source": [
    "num_imputer = IterativeImputer(max_iter=10, random_state=0)\n",
    "num_feats = num_imputer.fit_transform(data.features[data.numerical_features].values)"
   ]
  },
  {
   "cell_type": "markdown",
   "metadata": {},
   "source": [
    "To perform imputaton on categorical variables, I decided to use a method provided by the library `sklearn_pandas` that implements a `CategoricalImputer`."
   ]
  },
  {
   "cell_type": "code",
   "execution_count": 7,
   "metadata": {},
   "outputs": [],
   "source": [
    "cat_imputer = CategoricalImputer()\n",
    "df = pd.DataFrame()\n",
    "for col in data.categorical_features_na:\n",
    "    df[col] = cat_imputer.fit_transform(data.features[col].values)\n",
    "ds = Dataset.from_dataframe(df)"
   ]
  },
  {
   "cell_type": "markdown",
   "metadata": {},
   "source": [
    "Finally, the result of imputing both: numerical and categorical, is now merged together in a single Dataset (or you can also use a dataframe, if you prefer)."
   ]
  },
  {
   "cell_type": "code",
   "execution_count": 8,
   "metadata": {
    "hideCode": false,
    "hidePrompt": false,
    "hide_input": false,
    "scrolled": true
   },
   "outputs": [],
   "source": [
    "ds.add_columns(data.target)\n",
    "ds.to_categorical('band_type')\n",
    "\n",
    "# add the resulting imputed numerical features to the categorical imputed\n",
    "ds.add_columns(pd.DataFrame(num_feats, columns=data.numerical_features));"
   ]
  },
  {
   "cell_type": "markdown",
   "metadata": {},
   "source": [
    "Scale all the numeric values, at this point."
   ]
  },
  {
   "cell_type": "code",
   "execution_count": 9,
   "metadata": {},
   "outputs": [
    {
     "data": {
      "text/plain": [
       "<dataset.dataset.Dataset at 0x12b8def50>"
      ]
     },
     "execution_count": 9,
     "metadata": {},
     "output_type": "execute_result"
    }
   ],
   "source": [
    "del(data)\n",
    "data = ds.scale();\n",
    "data.set_target('band_type')"
   ]
  },
  {
   "cell_type": "markdown",
   "metadata": {},
   "source": [
    "Now, my dataset is ready to be analyzed. Lots of categorical and numerical variables."
   ]
  },
  {
   "cell_type": "markdown",
   "metadata": {
    "hideCode": false,
    "hidePrompt": false,
    "slideshow": {
     "slide_type": "subslide"
    }
   },
   "source": [
    "# EDA\n",
    "\n",
    "I will run a very short EDA as I don't want to condition your work. I will simply rely on basic counts and histograms against the target variable, to see if there's something wrong. I will use a method called `summary` to know better what's the status of each feature:"
   ]
  },
  {
   "cell_type": "code",
   "execution_count": 10,
   "metadata": {},
   "outputs": [
    {
     "name": "stdout",
     "output_type": "stream",
     "text": [
      "Features Summary (all):\n",
      "'grain_screened'     : object     2 categs. 'YES'(329, 0.6104) 'NO'(210, 0.3896) \n",
      "'proof_on_ctd'       : object     2 categs. 'YES'(517, 0.9592) 'NO'(22, 0.0408) \n",
      "'blade_mfg'          : object     2 categs. 'BENTON'(538, 0.9981) 'UDDEHOLM'(1, 0.0019) \n",
      "'direct_steam'       : object     3 categs. 'NO'(524, 0.9722) 'YES'(13, 0.0241) 'no'(2, 0.0037) \n",
      "'solvent_type'       : object     3 categs. 'LINE'(522, 0.9685) 'XYLOL'(15, 0.0278) 'NAPTHA'(2, 0.0037) \n",
      "'type_on_cylinder'   : object     4 categs. 'YES'(375, 0.6957) 'NO'(134, 0.2486) 'no'(28, 0.0519) 'yes'(2, 0.0037) \n",
      "'cylinder_size'      : object     6 categs. 'TABLOID'(284, 0.5269) 'CATALOG'(164, 0.3043) 'SPIEGEL'(54, 0.1002) 'catalog'(17, 0.0315) ...\n",
      "'paper_mill_location': object     6 categs. 'NorthUS'(344, 0.6382) 'CANADIAN'(158, 0.2931) 'CANAdiAN'(15, 0.0278) 'SCANDANAVIAN'(13, 0.0241) ...\n",
      "'job_number'         : float64    Min.(-1.6) 1stQ(-0.3) Med.(-0.1) Mean(-3.0) 3rdQ(0.02) Max.(5.83)\n",
      "'press'              : float64    Min.(-2.1) 1stQ(-0.3) Med.(-0.2) Mean(-6.5) 3rdQ(0.84) Max.(1.38)\n",
      "'unit_number'        : float64    Min.(-1.1) 1stQ(-0.8) Med.(-0.8) Mean(3.29) 3rdQ(1.26) Max.(1.57)\n",
      "'plating_tank'       : float64    Min.(-0.7) 1stQ(-0.7) Med.(-0.7) Mean(-1.4) 3rdQ(1.34) Max.(1.34)\n",
      "'proof_cut'          : float64    Min.(-2.3) 1stQ(-0.5) Med.(-0.0) Mean(-6.2) 3rdQ(0.56) Max.(3.18)\n",
      "'viscosity'          : float64    Min.(-1.9) 1stQ(-0.9) Med.(-0.1) Mean(-4.2) 3rdQ(0.62) Max.(2.62)\n",
      "'caliper'            : float64    Min.(-2.1) 1stQ(-1.1) Med.(-0.1) Mean(5.00) 3rdQ(0.35) Max.(3.79)\n",
      "'ink_temperature'    : float64    Min.(-3.2) 1stQ(-0.5) Med.(-0.1) Mean(1.12) 3rdQ(0.49) Max.(7.16)\n",
      "'humifity'           : float64    Min.(-2.7) 1stQ(-0.7) Med.(-0.0) Mean(6.92) 3rdQ(0.44) Max.(3.42)\n",
      "'roughness'          : float64    Min.(-3.5) 1stQ(-0.5) Med.(0.13) Mean(-1.4) 3rdQ(0.46) Max.(2.79)\n",
      "'blade_pressure'     : float64    Min.(-1.7) 1stQ(-0.7) Med.(-0.1) Mean(-2.0) 3rdQ(0.41) Max.(4.41)\n",
      "'varnish_pct'        : float64    Min.(-0.8) 1stQ(-0.8) Med.(-0.1) Mean(6.09) 3rdQ(0.61) Max.(4.63)\n",
      "'press_speed'        : float64    Min.(-5.5) 1stQ(-0.6) Med.(-0.0) Mean(2.66) 3rdQ(0.62) Max.(2.36)\n",
      "'ink_pct'            : float64    Min.(-2.7) 1stQ(-0.5) Med.(0.05) Mean(-9.3) 3rdQ(0.59) Max.(4.03)\n",
      "'solvent_pct'        : float64    Min.(-4.9) 1stQ(-0.5) Med.(-0.0) Mean(2.07) 3rdQ(0.79) Max.(4.47)\n",
      "'ESA_Voltage'        : float64    Min.(-0.5) 1stQ(-0.5) Med.(-0.5) Mean(-6.2) 3rdQ(0.29) Max.(6.29)\n",
      "'ESA_Amperage'       : float64    Min.(-0.1) 1stQ(-0.1) Med.(-0.1) Mean(-1.3) 3rdQ(-0.1) Max.(15.1)\n",
      "'wax'                : float64    Min.(-4.4) 1stQ(0.00) Med.(0.18) Mean(-7.4) 3rdQ(0.37) Max.(1.29)\n",
      "'hardener'           : float64    Min.(-2.7) 1stQ(-0.5) Med.(0.03) Mean(1.25) 3rdQ(0.11) Max.(5.50)\n",
      "'roller_durometer'   : float64    Min.(-1.5) 1stQ(-1.1) Med.(-0.2) Mean(-5.1) 3rdQ(1.16) Max.(5.74)\n",
      "'current_density'    : float64    Min.(-3.8) 1stQ(0.40) Med.(0.40) Mean(3.16) 3rdQ(0.40) Max.(2.54)\n",
      "'anode_space_ratio'  : float64    Min.(-3.9) 1stQ(-0.6) Med.(0.01) Mean(3.07) 3rdQ(0.68) Max.(2.98)\n",
      "'chrome_content'     : float64    Min.(-5.1) 1stQ(0.22) Med.(0.22) Mean(-4.7) 3rdQ(0.22) Max.(0.23)\n",
      "'band_type'          : object     2 categs. '1'(312, 0.5788) '0'(227, 0.4212) \n"
     ]
    }
   ],
   "source": [
    "data.summary()"
   ]
  },
  {
   "cell_type": "markdown",
   "metadata": {
    "hideCode": false,
    "hidePrompt": false,
    "slideshow": {
     "slide_type": "subslide"
    }
   },
   "source": [
    "I also want to know how may samples belong to the class '1' and how many to class '0', simply to check if the data set is balanced (you can see that YES, it is)."
   ]
  },
  {
   "cell_type": "code",
   "execution_count": 11,
   "metadata": {},
   "outputs": [
    {
     "data": {
      "text/plain": [
       "0    312\n",
       "1    227\n",
       "Name: band_type, dtype: int64"
      ]
     },
     "execution_count": 11,
     "metadata": {},
     "output_type": "execute_result"
    }
   ],
   "source": [
    "data.target.value_counts()"
   ]
  },
  {
   "cell_type": "markdown",
   "metadata": {
    "hideCode": false,
    "hidePrompt": false,
    "slideshow": {
     "slide_type": "subslide"
    }
   },
   "source": [
    "Starting by knowing if there're underrepresented features: this is, values that are only present in a very small portion of the samples. I will use a method called, precisely, `under_represented_features()` from the Dataset library that will return those features presenting values under a given threshold."
   ]
  },
  {
   "cell_type": "code",
   "execution_count": 12,
   "metadata": {},
   "outputs": [
    {
     "name": "stdout",
     "output_type": "stream",
     "text": [
      "['proof_on_ctd', 'blade_mfg', 'direct_steam', 'solvent_type']\n"
     ]
    }
   ],
   "source": [
    "under_repr = data.under_represented_features(threshold=0.9)\n",
    "print(under_repr)"
   ]
  },
  {
   "cell_type": "markdown",
   "metadata": {},
   "source": [
    "Let's see what's the situation in the categories of those clases. I will simply count the number of unique values present at each of those columns (above):"
   ]
  },
  {
   "cell_type": "code",
   "execution_count": 13,
   "metadata": {},
   "outputs": [
    {
     "name": "stdout",
     "output_type": "stream",
     "text": [
      "proof_on_ctd\n",
      "YES    517\n",
      "NO      22\n",
      "Name: proof_on_ctd, dtype: int64\n",
      "----\n",
      "blade_mfg\n",
      "YES    517\n",
      "NO      22\n",
      "Name: proof_on_ctd, dtype: int64\n",
      "----\n",
      "direct_steam\n",
      "YES    517\n",
      "NO      22\n",
      "Name: proof_on_ctd, dtype: int64\n",
      "----\n",
      "solvent_type\n",
      "YES    517\n",
      "NO      22\n",
      "Name: proof_on_ctd, dtype: int64\n",
      "----\n"
     ]
    }
   ],
   "source": [
    "for col in under_repr:\n",
    "    print(col)\n",
    "    res = data.features.proof_on_ctd.value_counts()\n",
    "    print(f'{res}\\n----')"
   ]
  },
  {
   "cell_type": "markdown",
   "metadata": {},
   "source": [
    "From that result, we will remove those features, as they are not very informative (a priori). You can also combine them into a single feature by merging the four of them."
   ]
  },
  {
   "cell_type": "code",
   "execution_count": 14,
   "metadata": {},
   "outputs": [
    {
     "data": {
      "text/plain": [
       "<dataset.dataset.Dataset at 0x12b8def50>"
      ]
     },
     "execution_count": 14,
     "metadata": {},
     "output_type": "execute_result"
    }
   ],
   "source": [
    "data.drop_columns(under_repr)"
   ]
  },
  {
   "cell_type": "markdown",
   "metadata": {},
   "source": [
    "Taking a log at `paper_mill_location` you can also find how the values contain discrepancies in the upper and lower case used for encoding its values. The solution is to merge categories."
   ]
  },
  {
   "cell_type": "code",
   "execution_count": 15,
   "metadata": {},
   "outputs": [
    {
     "data": {
      "text/plain": [
       "NorthUS         344\n",
       "CANADIAN        158\n",
       "mideuropean      15\n",
       "SCANDANAVIAN     13\n",
       "SouthUS           8\n",
       "CANAdiAN          1\n",
       "Name: paper_mill_location, dtype: int64"
      ]
     },
     "execution_count": 15,
     "metadata": {},
     "output_type": "execute_result"
    }
   ],
   "source": [
    "data.features.paper_mill_location.value_counts()"
   ]
  },
  {
   "cell_type": "markdown",
   "metadata": {},
   "source": [
    "We will (blindly) be a bit more agressive and merge also Scandinavian with mideuropean to form a new category called \"European\", and SouthUS with NorthUS to form a new one called \"NSAmerica\". We will also cleanup the case mess with the variable `type_on_cylinder` and `cylinder_size`."
   ]
  },
  {
   "cell_type": "code",
   "execution_count": 16,
   "metadata": {},
   "outputs": [
    {
     "name": "stdout",
     "output_type": "stream",
     "text": [
      "NSAmerica    352\n",
      "Canadian     159\n",
      "European      28\n",
      "Name: paper_mill_location, dtype: int64\n"
     ]
    }
   ],
   "source": [
    "data.merge_categories('paper_mill_location', old_values=['CANADIAN', 'CANAdiAN'], new_value='Canadian')\n",
    "data.merge_categories('paper_mill_location', old_values=['mideuropean', 'SCANDANAVIAN'], new_value='European')\n",
    "data.merge_categories('paper_mill_location', old_values=['NorthUS', 'SouthUS'], new_value='NSAmerica')\n",
    "data.merge_categories('type_on_cylinder', old_values=['YES', 'yes'], new_value='YES')\n",
    "data.merge_categories('type_on_cylinder', old_values=['NO', 'no'], new_value='NO')\n",
    "data.merge_categories('cylinder_size', old_values=['CATALOG', 'catalog'], new_value='CATALOG')\n",
    "data.merge_categories('cylinder_size', old_values=['TABLOID', 'tabloid'], new_value='CATALOG')\n",
    "data.merge_categories('cylinder_size', old_values=['SPIEGEL', 'spiegel'], new_value='SPIEGEL')\n",
    "print(data.features.paper_mill_location.value_counts())"
   ]
  },
  {
   "cell_type": "markdown",
   "metadata": {},
   "source": [
    "Let's take a look at the histograms of the numerical values."
   ]
  },
  {
   "cell_type": "code",
   "execution_count": 17,
   "metadata": {},
   "outputs": [
    {
     "data": {
      "image/png": "[encoded data removed]",
      "text/plain": [
       "<Figure size 1008x216 with 4 Axes>"
      ]
     },
     "metadata": {
      "needs_background": "light"
     },
     "output_type": "display_data"
    },
    {
     "data": {
      "image/png": "[encoded data removed]",
      "text/plain": [
       "<Figure size 1008x216 with 4 Axes>"
      ]
     },
     "metadata": {
      "needs_background": "light"
     },
     "output_type": "display_data"
    },
    {
     "data": {
      "image/png": "[encoded data removed]",
      "text/plain": [
       "<Figure size 1008x216 with 4 Axes>"
      ]
     },
     "metadata": {
      "needs_background": "light"
     },
     "output_type": "display_data"
    },
    {
     "data": {
      "image/png": "[encoded data removed]",
      "text/plain": [
       "<Figure size 1008x216 with 4 Axes>"
      ]
     },
     "metadata": {
      "needs_background": "light"
     },
     "output_type": "display_data"
    },
    {
     "data": {
      "image/png": "[encoded data removed]",
      "text/plain": [
       "<Figure size 1008x216 with 4 Axes>"
      ]
     },
     "metadata": {
      "needs_background": "light"
     },
     "output_type": "display_data"
    },
    {
     "data": {
      "image/png": "[encoded data removed]",
      "text/plain": [
       "<Figure size 1008x216 with 3 Axes>"
      ]
     },
     "metadata": {
      "needs_background": "light"
     },
     "output_type": "display_data"
    }
   ],
   "source": [
    "data.plot_histogram()"
   ]
  },
  {
   "cell_type": "markdown",
   "metadata": {},
   "source": [
    "We could do many things (I hope you do!) but for the moment I'm simply removing (bad decision without checking what's the effect of this change) `ESA_Amperage` and `chrome_content` since they seem to be not very informative on the target variable."
   ]
  },
  {
   "cell_type": "code",
   "execution_count": 18,
   "metadata": {},
   "outputs": [
    {
     "name": "stdout",
     "output_type": "stream",
     "text": [
      "Features Summary (all):\n",
      "'grain_screened'     : object     2 categs. 'YES'(329, 0.6104) 'NO'(210, 0.3896) \n",
      "'type_on_cylinder'   : object     2 categs. 'YES'(403, 0.7477) 'NO'(136, 0.2523) \n",
      "'cylinder_size'      : object     2 categs. 'CATALOG'(479, 0.8887) 'SPIEGEL'(60, 0.1113) \n",
      "'paper_mill_location': object     3 categs. 'NSAmerica'(352, 0.6531) 'Canadian'(159, 0.2950) 'European'(28, 0.0519) \n",
      "'job_number'         : float64    Min.(-1.6) 1stQ(-0.3) Med.(-0.1) Mean(-3.0) 3rdQ(0.02) Max.(5.83)\n",
      "'press'              : float64    Min.(-2.1) 1stQ(-0.3) Med.(-0.2) Mean(-6.5) 3rdQ(0.84) Max.(1.38)\n",
      "'unit_number'        : float64    Min.(-1.1) 1stQ(-0.8) Med.(-0.8) Mean(3.29) 3rdQ(1.26) Max.(1.57)\n",
      "'plating_tank'       : float64    Min.(-0.7) 1stQ(-0.7) Med.(-0.7) Mean(-1.4) 3rdQ(1.34) Max.(1.34)\n",
      "'proof_cut'          : float64    Min.(-2.3) 1stQ(-0.5) Med.(-0.0) Mean(-6.2) 3rdQ(0.56) Max.(3.18)\n",
      "'viscosity'          : float64    Min.(-1.9) 1stQ(-0.9) Med.(-0.1) Mean(-4.2) 3rdQ(0.62) Max.(2.62)\n",
      "'caliper'            : float64    Min.(-2.1) 1stQ(-1.1) Med.(-0.1) Mean(5.00) 3rdQ(0.35) Max.(3.79)\n",
      "'ink_temperature'    : float64    Min.(-3.2) 1stQ(-0.5) Med.(-0.1) Mean(1.12) 3rdQ(0.49) Max.(7.16)\n",
      "'humifity'           : float64    Min.(-2.7) 1stQ(-0.7) Med.(-0.0) Mean(6.92) 3rdQ(0.44) Max.(3.42)\n",
      "'roughness'          : float64    Min.(-3.5) 1stQ(-0.5) Med.(0.13) Mean(-1.4) 3rdQ(0.46) Max.(2.79)\n",
      "'blade_pressure'     : float64    Min.(-1.7) 1stQ(-0.7) Med.(-0.1) Mean(-2.0) 3rdQ(0.41) Max.(4.41)\n",
      "'varnish_pct'        : float64    Min.(-0.8) 1stQ(-0.8) Med.(-0.1) Mean(6.09) 3rdQ(0.61) Max.(4.63)\n",
      "'press_speed'        : float64    Min.(-5.5) 1stQ(-0.6) Med.(-0.0) Mean(2.66) 3rdQ(0.62) Max.(2.36)\n",
      "'ink_pct'            : float64    Min.(-2.7) 1stQ(-0.5) Med.(0.05) Mean(-9.3) 3rdQ(0.59) Max.(4.03)\n",
      "'solvent_pct'        : float64    Min.(-4.9) 1stQ(-0.5) Med.(-0.0) Mean(2.07) 3rdQ(0.79) Max.(4.47)\n",
      "'ESA_Voltage'        : float64    Min.(-0.5) 1stQ(-0.5) Med.(-0.5) Mean(-6.2) 3rdQ(0.29) Max.(6.29)\n",
      "'wax'                : float64    Min.(-4.4) 1stQ(0.00) Med.(0.18) Mean(-7.4) 3rdQ(0.37) Max.(1.29)\n",
      "'hardener'           : float64    Min.(-2.7) 1stQ(-0.5) Med.(0.03) Mean(1.25) 3rdQ(0.11) Max.(5.50)\n",
      "'roller_durometer'   : float64    Min.(-1.5) 1stQ(-1.1) Med.(-0.2) Mean(-5.1) 3rdQ(1.16) Max.(5.74)\n",
      "'current_density'    : float64    Min.(-3.8) 1stQ(0.40) Med.(0.40) Mean(3.16) 3rdQ(0.40) Max.(2.54)\n",
      "'anode_space_ratio'  : float64    Min.(-3.9) 1stQ(-0.6) Med.(0.01) Mean(3.07) 3rdQ(0.68) Max.(2.98)\n",
      "'band_type'          : object     2 categs. '1'(312, 0.5788) '0'(227, 0.4212) \n"
     ]
    }
   ],
   "source": [
    "data.drop_columns(['ESA_Amperage','chrome_content'])\n",
    "data.summary()"
   ]
  },
  {
   "cell_type": "markdown",
   "metadata": {
    "hideCode": false,
    "hidePrompt": false,
    "slideshow": {
     "slide_type": "subslide"
    }
   },
   "source": [
    "# Baseline"
   ]
  },
  {
   "cell_type": "markdown",
   "metadata": {},
   "source": [
    "I will build a method to evaluate a basic logistic regression over a split of the data set using cross validation. We will discuss about this one tomorrow..."
   ]
  },
  {
   "cell_type": "code",
   "execution_count": 19,
   "metadata": {},
   "outputs": [],
   "source": [
    "from sklearn.linear_model import LogisticRegression\n",
    "from sklearn.metrics import accuracy_score, f1_score, recall_score, matthews_corrcoef\n",
    "\n",
    "def evaluate_LogReg(X_train, y_train, X_test, y_test, \n",
    "                    return_score='F1',\n",
    "                    printout=False):\n",
    "    \"\"\"\n",
    "    Fits a logistic regression with the training set, and evaluates it with \n",
    "    the test set, using Accuracy, F1, Recall or MCC metrics\n",
    "\n",
    "    \"\"\"\n",
    "    lr = LogisticRegression().fit(X_train, y_train)\n",
    "    y_hat = lr.predict(X_test)\n",
    "\n",
    "    accuracy = accuracy_score(y_test, y_hat)\n",
    "    F1 = f1_score(y_test, y_hat)\n",
    "    recall = recall_score(y_test, y_hat)\n",
    "    MCC = matthews_corrcoef(y_test, y_hat)\n",
    "    \n",
    "    if printout is True:\n",
    "        print('Accuracy:', accuracy)\n",
    "        print('F1:', F1)\n",
    "        print('Recall:', recall)\n",
    "        print('MCC:', MCC)\n",
    "    \n",
    "    return eval(return_score)"
   ]
  },
  {
   "cell_type": "code",
   "execution_count": null,
   "metadata": {
    "hideCode": false,
    "hidePrompt": false
   },
   "outputs": [],
   "source": []
  },
  {
   "cell_type": "markdown",
   "metadata": {
    "hideCode": false,
    "hidePrompt": false,
    "slideshow": {
     "slide_type": "subslide"
    }
   },
   "source": [
    "# Feature Engineering"
   ]
  },
  {
   "cell_type": "code",
   "execution_count": null,
   "metadata": {
    "hideCode": false,
    "hidePrompt": false
   },
   "outputs": [],
   "source": []
  },
  {
   "cell_type": "markdown",
   "metadata": {
    "hideCode": false,
    "hidePrompt": false,
    "slideshow": {
     "slide_type": "subslide"
    }
   },
   "source": [
    "# Evaluation and Validation"
   ]
  },
  {
   "cell_type": "markdown",
   "metadata": {
    "hideCode": false,
    "hidePrompt": false
   },
   "source": []
  }
 ],
 "metadata": {
  "hide_code_all_hidden": false,
  "kernelspec": {
   "display_name": "dataset-kernel",
   "language": "python",
   "name": "dataset-kernel"
  },
  "language_info": {
   "codemirror_mode": {
    "name": "ipython",
    "version": 3
   },
   "file_extension": ".py",
   "mimetype": "text/x-python",
   "name": "python",
   "nbconvert_exporter": "python",
   "pygments_lexer": "ipython3",
   "version": "3.7.7"
  },
  "toc": {
   "base_numbering": 1,
   "nav_menu": {},
   "number_sections": true,
   "sideBar": true,
   "skip_h1_title": false,
   "title_cell": "Table of Contents",
   "title_sidebar": "Contents",
   "toc_cell": true,
   "toc_position": {},
   "toc_section_display": true,
   "toc_window_display": false
  }
 },
 "nbformat": 4,
 "nbformat_minor": 4
}
