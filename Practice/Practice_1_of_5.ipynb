{
 "cells": [
  {
   "cell_type": "markdown",
   "metadata": {
    "toc": true
   },
   "source": [
    "<h1>Table of Contents<span class=\"tocSkip\"></span></h1>\n",
    "<div class=\"toc\"><ul class=\"toc-item\"><li><span><a href=\"#Practice-Session-1-(Sess-#6)\" data-toc-modified-id=\"Practice-Session-1-(Sess-#6)-1\"><span class=\"toc-item-num\">1&nbsp;&nbsp;</span>Practice Session 1 (Sess #6)</a></span><ul class=\"toc-item\"><li><span><a href=\"#Steps-to-be-followed\" data-toc-modified-id=\"Steps-to-be-followed-1.1\"><span class=\"toc-item-num\">1.1&nbsp;&nbsp;</span>Steps to be followed</a></span></li></ul></li><li><span><a href=\"#Read-the-dataset\" data-toc-modified-id=\"Read-the-dataset-2\"><span class=\"toc-item-num\">2&nbsp;&nbsp;</span>Read the dataset</a></span></li><li><span><a href=\"#Data-Preparation\" data-toc-modified-id=\"Data-Preparation-3\"><span class=\"toc-item-num\">3&nbsp;&nbsp;</span>Data Preparation</a></span></li><li><span><a href=\"#EDA\" data-toc-modified-id=\"EDA-4\"><span class=\"toc-item-num\">4&nbsp;&nbsp;</span>EDA</a></span></li><li><span><a href=\"#Baseline\" data-toc-modified-id=\"Baseline-5\"><span class=\"toc-item-num\">5&nbsp;&nbsp;</span>Baseline</a></span></li><li><span><a href=\"#Feature-Engineering\" data-toc-modified-id=\"Feature-Engineering-6\"><span class=\"toc-item-num\">6&nbsp;&nbsp;</span>Feature Engineering</a></span></li><li><span><a href=\"#Evaluation-and-Validation\" data-toc-modified-id=\"Evaluation-and-Validation-7\"><span class=\"toc-item-num\">7&nbsp;&nbsp;</span>Evaluation and Validation</a></span></li></ul></div>"
   ]
  },
  {
   "cell_type": "markdown",
   "metadata": {},
   "source": [
    "# Practice Session 1 (Sess #6)\n",
    "\n",
    "We're putting in practice what we need to know about feature engineering and model validation.\n",
    "\n",
    "The goal of this week is to practice on most of the topics, so I will experiment with a new (at least, for me) dataset that can be found [here](http://archive.ics.uci.edu/ml/datasets/Cylinder+Bands). It contains $p=39$ attributes or features, mixed between categorical, integer and real, with a total of $m=512$ samples. The target variable is the one called `band type`, taking the values `band` or `not band`.\n",
    "\n",
    "## Steps to be followed\n",
    "\n",
    "1. Read the dataset\n",
    "2. Data preparation: Check for variable types, NAs, values imputation, column names, scaling, encoding, etc.\n",
    "3. EDA (Exploratory Data Analysis): Try to extract some insights from the data like features completely uncorrelated or under-represented. Can we merge values from any of the categorical features? Would it be beneficial to discrretiza numerical features? Do we have outliers?\n",
    "3. Baseline: Simply take the simpler possible model (logistic regression) and set a base score that we'll try to improve along the process. To run logistic regression **you need** to have **numerical features**, so the fastest way of preparing your data to be used in `lr` is to perform _one hot encoding_. Perform this encoding so that you don't destroy the original prepared data. Consider to include onehot encoding as an step which is done right before evaluation over a copy of your prepared data.\n",
    "4. Feature Engineering: We will try\n",
    "    - categorical encoding: compare techniques like onehot and target encoding\n",
    "    - feature selection: compare the results from filtering, wrappers and regularization\n",
    "    - feature construction: compare GPLearn with _ad hoc_ methods, or Deep Feature Synthesis.\n",
    "5. Evaluation: the goal here is to fine tune our models, so, to do that we need a new model, like **decission trees**, in this case. We will experiment with:\n",
    "    - Cross validation and bootstrapping comparison.\n",
    "    - Fine tune tree parameters: pruning and parameters optimization."
   ]
  },
  {
   "cell_type": "markdown",
   "metadata": {},
   "source": [
    "# Read the dataset\n",
    "\n",
    "Uncomment the following line if you need to install the `dataset` package if you want to go faster, or use Pandas to read it directly."
   ]
  },
  {
   "cell_type": "code",
   "execution_count": 11,
   "metadata": {},
   "outputs": [],
   "source": [
    "# !pip install --upgrade git+http://github.com/renero/dataset"
   ]
  },
  {
   "cell_type": "code",
   "execution_count": 12,
   "metadata": {},
   "outputs": [],
   "source": [
    "from dataset import Dataset\n",
    "import pandas as pd\n",
    "import numpy as np\n",
    "import matplotlib.pyplot as plt"
   ]
  },
  {
   "cell_type": "code",
   "execution_count": 2,
   "metadata": {
    "scrolled": true
   },
   "outputs": [
    {
     "name": "stdout",
     "output_type": "stream",
     "text": [
      "40 Features. 539 Samples\n",
      "Available types: [dtype('float64') dtype('O')]\n",
      "  · 16 categorical features\n",
      "  · 24 numerical features\n",
      "  · 8 categorical features with NAs\n",
      "  · 20 numerical features with NAs\n",
      "  · 12 Complete features\n",
      "--\n",
      "Target: Not set\n"
     ]
    }
   ],
   "source": [
    "url = 'bands.csv'\n",
    "data = Dataset(url) # 'data' is now holding the dataset object\n",
    "df = data.features  # 'df' is now holding the pandas DataFrame\n",
    "data.describe()"
   ]
  },
  {
   "cell_type": "markdown",
   "metadata": {
    "slideshow": {
     "slide_type": "subslide"
    }
   },
   "source": [
    "# Data Preparation\n",
    "\n",
    "You've a lot of NA's so you can explore imputation techniques here. Once that's check outliers, scale numerical variables, all to the same range, and you should be done.\n",
    "\n",
    "To know what features contain NA values, you can use `Dataset` property `data.incomplete_features` or look up for them in pandas using `is_na().any()` over columns."
   ]
  },
  {
   "cell_type": "code",
   "execution_count": 10,
   "metadata": {},
   "outputs": [
    {
     "data": {
      "text/plain": [
       "['grain_screened',\n",
       " 'proof_on_ctd',\n",
       " 'blade_mfg',\n",
       " 'direct_steam',\n",
       " 'solvent_type',\n",
       " 'type_on_cylinder',\n",
       " 'cylinder_size',\n",
       " 'paper_mill_location',\n",
       " 'plating_tank',\n",
       " 'proof_cut',\n",
       " 'viscosity',\n",
       " 'caliper',\n",
       " 'ink_temperature',\n",
       " 'humifity',\n",
       " 'roughness',\n",
       " 'blade_pressure',\n",
       " 'varnish_pct',\n",
       " 'press_speed',\n",
       " 'ink_pct',\n",
       " 'solvent_pct',\n",
       " 'ESA_Voltage',\n",
       " 'ESA_Amperage',\n",
       " 'wax',\n",
       " 'hardener',\n",
       " 'roller_durometer',\n",
       " 'current_density',\n",
       " 'anode_space_ratio',\n",
       " 'chrome_content']"
      ]
     },
     "execution_count": 10,
     "metadata": {},
     "output_type": "execute_result"
    }
   ],
   "source": [
    "data.incomplete_features"
   ]
  },
  {
   "cell_type": "markdown",
   "metadata": {},
   "source": [
    "Your first decision has to do with WHAT to do with NA's. Then, scale numerical variables, and finally check if all categorical variables are correctly encoded."
   ]
  },
  {
   "cell_type": "markdown",
   "metadata": {
    "slideshow": {
     "slide_type": "subslide"
    }
   },
   "source": [
    "# EDA"
   ]
  },
  {
   "cell_type": "code",
   "execution_count": null,
   "metadata": {},
   "outputs": [],
   "source": []
  },
  {
   "cell_type": "markdown",
   "metadata": {
    "slideshow": {
     "slide_type": "subslide"
    }
   },
   "source": [
    "# Baseline"
   ]
  },
  {
   "cell_type": "code",
   "execution_count": null,
   "metadata": {},
   "outputs": [],
   "source": []
  },
  {
   "cell_type": "markdown",
   "metadata": {
    "slideshow": {
     "slide_type": "subslide"
    }
   },
   "source": [
    "# Feature Engineering"
   ]
  },
  {
   "cell_type": "code",
   "execution_count": null,
   "metadata": {},
   "outputs": [],
   "source": []
  },
  {
   "cell_type": "markdown",
   "metadata": {
    "slideshow": {
     "slide_type": "subslide"
    }
   },
   "source": [
    "# Evaluation and Validation"
   ]
  },
  {
   "cell_type": "markdown",
   "metadata": {},
   "source": []
  }
 ],
 "metadata": {
  "kernelspec": {
   "display_name": "Python 3.7.6 64-bit ('base': conda)",
   "language": "python",
   "name": "python37664bitbasecondaf32a12efebf748b295cf52ba1987da6a"
  },
  "language_info": {
   "codemirror_mode": {
    "name": "ipython",
    "version": 3
   },
   "file_extension": ".py",
   "mimetype": "text/x-python",
   "name": "python",
   "nbconvert_exporter": "python",
   "pygments_lexer": "ipython3",
   "version": "3.7.6"
  },
  "toc": {
   "base_numbering": 1,
   "nav_menu": {},
   "number_sections": true,
   "sideBar": true,
   "skip_h1_title": false,
   "title_cell": "Table of Contents",
   "title_sidebar": "Contents",
   "toc_cell": true,
   "toc_position": {},
   "toc_section_display": true,
   "toc_window_display": false
  }
 },
 "nbformat": 4,
 "nbformat_minor": 4
}
