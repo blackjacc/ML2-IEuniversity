{
 "cells": [
  {
   "cell_type": "markdown",
   "metadata": {
    "toc": true
   },
   "source": [
    "<h1>Table of Contents<span class=\"tocSkip\"></span></h1>\n",
    "<div class=\"toc\"><ul class=\"toc-item\"><li><span><a href=\"#Features-Importance\" data-toc-modified-id=\"Features-Importance-1\"><span class=\"toc-item-num\">1&nbsp;&nbsp;</span>Features Importance</a></span><ul class=\"toc-item\"><li><span><a href=\"#Reading-and-preparing-the-dataset\" data-toc-modified-id=\"Reading-and-preparing-the-dataset-1.1\"><span class=\"toc-item-num\">1.1&nbsp;&nbsp;</span>Reading and preparing the dataset</a></span><ul class=\"toc-item\"><li><span><a href=\"#Set-target-variable-and-categorical-features\" data-toc-modified-id=\"Set-target-variable-and-categorical-features-1.1.1\"><span class=\"toc-item-num\">1.1.1&nbsp;&nbsp;</span>Set target variable and categorical features</a></span></li><li><span><a href=\"#Binning-numerical-features\" data-toc-modified-id=\"Binning-numerical-features-1.1.2\"><span class=\"toc-item-num\">1.1.2&nbsp;&nbsp;</span>Binning numerical features</a></span></li><li><span><a href=\"#Onehot-encode-the-features-to-have-numerical-values\" data-toc-modified-id=\"Onehot-encode-the-features-to-have-numerical-values-1.1.3\"><span class=\"toc-item-num\">1.1.3&nbsp;&nbsp;</span>Onehot encode the features to have numerical values</a></span></li><li><span><a href=\"#Split-the-dataset\" data-toc-modified-id=\"Split-the-dataset-1.1.4\"><span class=\"toc-item-num\">1.1.4&nbsp;&nbsp;</span>Split the dataset</a></span></li></ul></li><li><span><a href=\"#Logistic-regression-(Filtering)\" data-toc-modified-id=\"Logistic-regression-(Filtering)-1.2\"><span class=\"toc-item-num\">1.2&nbsp;&nbsp;</span>Logistic regression (Filtering)</a></span></li><li><span><a href=\"#RelieF-Algorithm\" data-toc-modified-id=\"RelieF-Algorithm-1.3\"><span class=\"toc-item-num\">1.3&nbsp;&nbsp;</span>RelieF Algorithm</a></span></li><li><span><a href=\"#Wrapper-methods...\" data-toc-modified-id=\"Wrapper-methods...-1.4\"><span class=\"toc-item-num\">1.4&nbsp;&nbsp;</span>Wrapper methods...</a></span></li><li><span><a href=\"#Matching-between-the-three-methods?\" data-toc-modified-id=\"Matching-between-the-three-methods?-1.5\"><span class=\"toc-item-num\">1.5&nbsp;&nbsp;</span>Matching between the three methods?</a></span></li></ul></li></ul></div>"
   ]
  },
  {
   "cell_type": "markdown",
   "metadata": {
    "slideshow": {
     "slide_type": "slide"
    }
   },
   "source": [
    "# Features Importance \n",
    "\n",
    "This notebook shows how to extract features importance from fitting a **simple linear method**. In this case, we're using a logistic regression to plot what is the value of the differente coefficients."
   ]
  },
  {
   "cell_type": "code",
   "execution_count": 3,
   "metadata": {
    "inputHidden": false,
    "outputHidden": false,
    "slideshow": {
     "slide_type": "skip"
    }
   },
   "outputs": [],
   "source": [
    "from dataset import Dataset as dataset\n",
    "from sklearn.linear_model import LogisticRegression\n",
    "from typing import List\n",
    "from skrebate import ReliefF\n",
    "\n",
    "import pandas as pd\n",
    "import matplotlib.pyplot as plt\n",
    "import numpy as np\n",
    "\n",
    "\n",
    "def plot_importance(features: List[str], importances: List[float]):\n",
    "\n",
    "    num_features = len(features)\n",
    "    indices = np.argsort(importances)\n",
    "\n",
    "    plt.figure(figsize=(8, 10))\n",
    "    plt.title(\"Feature importances\")\n",
    "    plt.barh(range(num_features), importances[indices],\n",
    "             color=\"r\",\n",
    "             xerr=np.std(importances),\n",
    "             align=\"center\")\n",
    "    plt.yticks(range(num_features), features[indices])\n",
    "    plt.ylim([-1, num_features])\n",
    "    plt.show()"
   ]
  },
  {
   "cell_type": "markdown",
   "metadata": {
    "slideshow": {
     "slide_type": "slide"
    }
   },
   "source": [
    "## Reading and preparing the dataset\n",
    "\n",
    "http://archive.ics.uci.edu/ml/datasets/Contraceptive+Method+Choice\n",
    "\n",
    "    1. Wife's age                     (numerical)\n",
    "    2. Wife's education               (categorical)      1=low, 2, 3, 4=high\n",
    "    3. Husband's education            (categorical)      1=low, 2, 3, 4=high\n",
    "    4. Number of children ever born   (numerical)\n",
    "    5. Wife's religion                (binary)           0=Non-Islam, 1=Islam\n",
    "    6. Wife's now working?            (binary)           0=Yes, 1=No\n",
    "    7. Husband's occupation           (categorical)      1, 2, 3, 4\n",
    "    8. Standard-of-living index       (categorical)      1=low, 2, 3, 4=high\n",
    "    9. Media exposure                 (binary)           0=Good, 1=Not good\n",
    "    10. Contraceptive method used     (class attribute)  1=No-use \n",
    "                                                         2=Long-term\n",
    "                                                         3=Short-term"
   ]
  },
  {
   "cell_type": "code",
   "execution_count": 6,
   "metadata": {
    "slideshow": {
     "slide_type": "slide"
    }
   },
   "outputs": [],
   "source": [
    "URL = 'http://archive.ics.uci.edu/ml/machine-learning-databases/cmc/cmc.data'\n",
    "df = dataset(URL, header=None)\n",
    "df.to_int(df.names());"
   ]
  },
  {
   "cell_type": "markdown",
   "metadata": {
    "slideshow": {
     "slide_type": "slide"
    }
   },
   "source": [
    "### Set target variable and categorical features\n",
    "\n",
    "Reduce nr. of categories in target feature: from 3 to 2\n",
    "\n",
    "Since we've 3 classes and we can only work with 2 (logit is binomial).\n",
    "\n",
    "Merge categories Short/Long term (values 2.0 and 3.0) into a new one valued 0.0.\n",
    "\n",
    "As a final step  with `x9`, set it as the target variable."
   ]
  },
  {
   "cell_type": "code",
   "execution_count": 7,
   "metadata": {
    "slideshow": {
     "slide_type": "fragment"
    }
   },
   "outputs": [],
   "source": [
    "df.merge_values(column='x9', old_values=[2, 3], new_value=0)\n",
    "df.to_int('x9').set_target('x9');"
   ]
  },
  {
   "cell_type": "markdown",
   "metadata": {
    "slideshow": {
     "slide_type": "slide"
    }
   },
   "source": [
    "Make these columns categorical, as per description"
   ]
  },
  {
   "cell_type": "code",
   "execution_count": 8,
   "metadata": {
    "slideshow": {
     "slide_type": "fragment"
    }
   },
   "outputs": [],
   "source": [
    "df = df.to_categorical(['x1','x2','x4','x5','x6','x7','x8'])"
   ]
  },
  {
   "cell_type": "markdown",
   "metadata": {
    "slideshow": {
     "slide_type": "slide"
    }
   },
   "source": [
    "### Binning numerical features\n",
    "\n",
    "Age ranges between 16 and 49, so we'll discretize it into (say) 6 buckets. \n",
    "\n",
    "Number of sons ranges from 0 to 16, so we create (also) 6 buckets."
   ]
  },
  {
   "cell_type": "code",
   "execution_count": 5,
   "metadata": {
    "slideshow": {
     "slide_type": "fragment"
    }
   },
   "outputs": [
    {
     "data": {
      "text/plain": [
       "<dataset.dataset.Dataset at 0x110bcfc90>"
      ]
     },
     "execution_count": 5,
     "metadata": {},
     "output_type": "execute_result"
    }
   ],
   "source": [
    "df.discretize('x0', [(15, 20), (20, 25), (25, 30), (30, 35), (35, 40), (40, 50)])\n",
    "df.discretize('x3', [(0, 2), (2, 4), (4, 6), (6, 8), (8, 10), (10, 20)])"
   ]
  },
  {
   "cell_type": "markdown",
   "metadata": {
    "slideshow": {
     "slide_type": "slide"
    }
   },
   "source": [
    "### Onehot encode the features to have numerical values"
   ]
  },
  {
   "cell_type": "code",
   "execution_count": 6,
   "metadata": {
    "slideshow": {
     "slide_type": "fragment"
    }
   },
   "outputs": [],
   "source": [
    "df.onehot_encode(df.names('features'));"
   ]
  },
  {
   "cell_type": "markdown",
   "metadata": {
    "slideshow": {
     "slide_type": "slide"
    }
   },
   "source": [
    "### Split the dataset"
   ]
  },
  {
   "cell_type": "code",
   "execution_count": 7,
   "metadata": {
    "slideshow": {
     "slide_type": "fragment"
    }
   },
   "outputs": [],
   "source": [
    "X, y = df.split(test_size=0.2)"
   ]
  },
  {
   "cell_type": "markdown",
   "metadata": {
    "slideshow": {
     "slide_type": "slide"
    }
   },
   "source": [
    "## Logistic regression (Filtering)\n",
    "\n",
    "After fitting the logit, the coefficient values are stored in the `coef_` internal variable. \n",
    "\n",
    "- We pass them to a plotting function that will sort them out in decreasing order. \n",
    "- We pass the `abs()` of them, since we're interested in their influence in this model, and negative influence simply indicates that the higher this value, the higher the log of the odds towards the negative class (`0`).\n",
    "- It may also be considered to plot:\n",
    "\n",
    "$$\n",
    "| std(X) \\cdot \\beta |\n",
    "$$\n",
    "\n",
    "instead of simply passing the coefficients ($\\beta$), but results are lineaerly equivalent."
   ]
  },
  {
   "cell_type": "code",
   "execution_count": 8,
   "metadata": {
    "slideshow": {
     "slide_type": "slide"
    }
   },
   "outputs": [
    {
     "data": {
      "image/png": "[encoded data removed]",
      "text/plain": [
       "<Figure size 576x720 with 1 Axes>"
      ]
     },
     "metadata": {
      "needs_background": "light"
     },
     "output_type": "display_data"
    }
   ],
   "source": [
    "lr = LogisticRegression().fit(X.train, y.train)\n",
    "plot_importance(df.features.columns, np.abs(lr.coef_[0]))"
   ]
  },
  {
   "cell_type": "markdown",
   "metadata": {
    "slideshow": {
     "slide_type": "slide"
    }
   },
   "source": [
    "Let's print the names of the top 10 features selected by the Logistic Regression algorithm."
   ]
  },
  {
   "cell_type": "code",
   "execution_count": 9,
   "metadata": {
    "slideshow": {
     "slide_type": "fragment"
    }
   },
   "outputs": [
    {
     "name": "stdout",
     "output_type": "stream",
     "text": [
      "['x3_2', 'x3_3', 'x3_4', 'x3_5', 'x3_6', 'x3_1', 'x0_6', 'x1_1', 'x1_4', 'x8_1']\n"
     ]
    }
   ],
   "source": [
    "# Get the index number of the coefficients, sorted in descending order.\n",
    "indices = np.argsort(-np.abs(lr.coef_[0]))\n",
    "\n",
    "# Use the indices to retrieve the feature names\n",
    "top_LR_feature_names = [X.train.columns[i] for i in indices]\n",
    "print(top_LR_feature_names[:10])"
   ]
  },
  {
   "cell_type": "markdown",
   "metadata": {
    "slideshow": {
     "slide_type": "slide"
    }
   },
   "source": [
    "## RelieF Algorithm\n",
    "\n",
    "Let's use an implementation of RELIEF algorithm that we can find [here](https://github.com/EpistasisLab/scikit-rebate). We will simply specify how many neighbours to consider when comparing each feature with the rest, to measure differences, and how many features do we want at the end of the process.\n",
    "\n",
    "The only caveat is the algorithm expects the values as Numpy arrays with shapes $(m, p)$ for the features ($m$ is the number of tuples/samples and $p$ is the number of predictors/features), and $(m, 1)$ for the target variable (a 1D numpy array, for which we must use the function `ravel()` from Numpy)."
   ]
  },
  {
   "cell_type": "code",
   "execution_count": 10,
   "metadata": {
    "inputHidden": false,
    "jupyter": {
     "outputs_hidden": false
    },
    "outputHidden": false,
    "slideshow": {
     "slide_type": "slide"
    }
   },
   "outputs": [
    {
     "name": "stdout",
     "output_type": "stream",
     "text": [
      "No. of tuples, No. of Columns before ReliefF : (1178, 34)\n",
      "No. of tuples , No. of Columns after ReliefF : (1178, 10)\n"
     ]
    },
    {
     "data": {
      "image/png": "[encoded data removed]",
      "text/plain": [
       "<Figure size 576x720 with 1 Axes>"
      ]
     },
     "metadata": {
      "needs_background": "light"
     },
     "output_type": "display_data"
    }
   ],
   "source": [
    "my_features = X.train.values        # the numpy array inside the dataframe\n",
    "my_labels = y.train.values.ravel()  # the target variable as a 1D array.\n",
    "\n",
    "fs = ReliefF(n_features_to_select=10, n_neighbors=34)\n",
    "fs.fit(my_features, my_labels)\n",
    "my_important_features = fs.transform(my_features)\n",
    "\n",
    "print(\"No. of tuples, No. of Columns before ReliefF : \"+str(my_features.shape)+\n",
    "      \"\\nNo. of tuples , No. of Columns after ReliefF : \"+str(my_important_features.shape))\n",
    "\n",
    "# Plot the importances, taken from the `fs` variable.\n",
    "plot_importance(X.train.columns, abs(fs.feature_importances_))"
   ]
  },
  {
   "cell_type": "markdown",
   "metadata": {
    "slideshow": {
     "slide_type": "slide"
    }
   },
   "source": [
    "Let's print the names of the top 10 features selected by the RELIEF algorithm."
   ]
  },
  {
   "cell_type": "code",
   "execution_count": 11,
   "metadata": {
    "slideshow": {
     "slide_type": "fragment"
    }
   },
   "outputs": [
    {
     "name": "stdout",
     "output_type": "stream",
     "text": [
      "['x3_2', 'x3_1', 'x0_6', 'x0_3', 'x0_5', 'x0_2', 'x1_4', 'x0_4', 'x3_3', 'x1_3']\n"
     ]
    }
   ],
   "source": [
    "top_RELIEF_feature_names = [X.train.columns[i] for i in abs(fs.top_features_)]\n",
    "print(top_RELIEF_feature_names[:10])"
   ]
  },
  {
   "cell_type": "code",
   "execution_count": 12,
   "metadata": {
    "slideshow": {
     "slide_type": "slide"
    }
   },
   "outputs": [
    {
     "name": "stdout",
     "output_type": "stream",
     "text": [
      "{'x3_2', 'x3_5', 'x3_6', 'x8_1', 'x1_4', 'x3_4', 'x0_6', 'x3_1', 'x3_3', 'x1_1'}\n",
      "{'x3_2', 'x1_4', 'x0_3', 'x3_3', 'x0_2', 'x0_6', 'x1_3', 'x3_1', 'x0_4', 'x0_5'}\n"
     ]
    }
   ],
   "source": [
    "set_LR = set(top_LR_feature_names[:10])\n",
    "set_RL = set(top_RELIEF_feature_names[:10])\n",
    "print(set_LR)\n",
    "print(set_RL)"
   ]
  },
  {
   "cell_type": "markdown",
   "metadata": {
    "slideshow": {
     "slide_type": "slide"
    }
   },
   "source": [
    "## Wrapper methods...\n",
    "\n",
    "Let's find the top features from a wrapper method implemented in dataset that uses forward and backward stepwise selection, and compare results.\n",
    "\n",
    "Unfortunately, with this method we don't have information about feature importance."
   ]
  },
  {
   "cell_type": "code",
   "execution_count": 40,
   "metadata": {
    "slideshow": {
     "slide_type": "fragment"
    }
   },
   "outputs": [
    {
     "name": "stdout",
     "output_type": "stream",
     "text": [
      "Top stepwise selection features:\n",
      " ->  ['x3_2', 'x1_4', 'x0_6', 'x3_3', 'x1_3', 'x3_4', 'x3_1', 'x3_5', 'x3_6', 'x8_0', 'x0_5', 'x7_1']\n"
     ]
    }
   ],
   "source": [
    "df.target.astype(float)               # We need target to be float to run the stepwise method\n",
    "top_SW_features = df.stepwise_selection()\n",
    "print('Top stepwise selection features:\\n -> ', top_SW_features)"
   ]
  },
  {
   "cell_type": "markdown",
   "metadata": {
    "slideshow": {
     "slide_type": "slide"
    }
   },
   "source": [
    "## Matching between the three methods?"
   ]
  },
  {
   "cell_type": "code",
   "execution_count": 42,
   "metadata": {
    "slideshow": {
     "slide_type": "fragment"
    }
   },
   "outputs": [
    {
     "name": "stdout",
     "output_type": "stream",
     "text": [
      "Logistic matches 5 features with RELIEF: {'x3_2', 'x3_1', 'x0_6', 'x1_4', 'x3_3'}\n",
      "Stepwise matches 8 features with Logistic Regression: {'x3_2', 'x3_5', 'x3_6', 'x3_1', 'x3_4', 'x0_6', 'x1_4', 'x3_3'}\n",
      "Stepwise matches 7 features with RELIEF: {'x3_2', 'x3_1', 'x0_6', 'x1_3', 'x1_4', 'x3_3', 'x0_5'}\n"
     ]
    }
   ],
   "source": [
    "set_SW = set(top_SW_features)\n",
    "\n",
    "# Compute the different interesections between the sets \n",
    "# obtained by the different methods\n",
    "LR_RL_in_common = set_LR.intersection(set_RL)\n",
    "SW_LR_in_common = set_SW.intersection(set_LR)\n",
    "SW_RL_in_common = set_SW.intersection(set_RL)\n",
    "\n",
    "print('Logistic matches', len(LR_RL_in_common),\\\n",
    "      'features with RELIEF:', set_LR.intersection(set_RL))\n",
    "print('Stepwise matches', len(SW_LR_in_common),\\\n",
    "      'features with Logistic Regression:', SW_LR_in_common)\n",
    "print('Stepwise matches', len(SW_RL_in_common),\\\n",
    "      'features with RELIEF:', SW_RL_in_common)"
   ]
  }
 ],
 "metadata": {
  "celltoolbar": "Slideshow",
  "kernel_info": {
   "name": "python3"
  },
  "kernelspec": {
   "display_name": "Python 3",
   "language": "python",
   "name": "python3"
  },
  "language_info": {
   "codemirror_mode": {
    "name": "ipython",
    "version": 3
   },
   "file_extension": ".py",
   "mimetype": "text/x-python",
   "name": "python",
   "nbconvert_exporter": "python",
   "pygments_lexer": "ipython3",
   "version": "3.7.7"
  },
  "nteract": {
   "version": "0.15.0"
  },
  "toc": {
   "base_numbering": 1,
   "nav_menu": {},
   "number_sections": true,
   "sideBar": true,
   "skip_h1_title": false,
   "title_cell": "Table of Contents",
   "title_sidebar": "Contents",
   "toc_cell": true,
   "toc_position": {},
   "toc_section_display": true,
   "toc_window_display": false
  },
  "toc-showcode": false,
  "toc-showmarkdowntxt": false,
  "toc-showtags": true
 },
 "nbformat": 4,
 "nbformat_minor": 4
}
