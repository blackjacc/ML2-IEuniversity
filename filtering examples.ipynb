{
 "cells": [
  {
   "cell_type": "markdown",
   "metadata": {
    "toc": true
   },
   "source": [
    "<h1>Table of Contents<span class=\"tocSkip\"></span></h1>\n",
    "<div class=\"toc\"><ul class=\"toc-item\"><li><span><a href=\"#Filtering-Methods\" data-toc-modified-id=\"Filtering-Methods-1\"><span class=\"toc-item-num\">1&nbsp;&nbsp;</span>Filtering Methods</a></span><ul class=\"toc-item\"><li><span><a href=\"#Chi-Squared-Test\" data-toc-modified-id=\"Chi-Squared-Test-1.1\"><span class=\"toc-item-num\">1.1&nbsp;&nbsp;</span>Chi Squared Test</a></span></li><li><span><a href=\"#Information-Gain,-Mutual-Information\" data-toc-modified-id=\"Information-Gain,-Mutual-Information-1.2\"><span class=\"toc-item-num\">1.2&nbsp;&nbsp;</span>Information Gain, Mutual Information</a></span></li><li><span><a href=\"#Mutual-Information\" data-toc-modified-id=\"Mutual-Information-1.3\"><span class=\"toc-item-num\">1.3&nbsp;&nbsp;</span>Mutual Information</a></span></li></ul></li></ul></div>"
   ]
  },
  {
   "cell_type": "markdown",
   "metadata": {
    "slideshow": {
     "slide_type": "slide"
    }
   },
   "source": [
    "# Filtering Methods\n",
    "\n",
    "In this example we check how to filter a dataset comprised mainly of categorical features, using Chi Sq. method, and Information Gain method.\n",
    "\n",
    "The data used to illustrate the example is the toy dataset used in [Wikipedia](https://en.wikipedia.org/wiki/Chi-squared_test) to explain how Chi Squared test works. In that example, suppose there is a city of 1,000,000 residents with four neighborhoods: A, B, C, and D. A random sample of 650 residents of the city is taken and their occupation is recorded as \"white collar\", \"blue collar\", or \"no collar\". The null hypothesis is that each person's neighborhood of residence is independent of the person's occupational classification. The data are tabulated as:\n",
    "\n",
    "| |A  |B  | C | D |\n",
    "|-|:-:|:-:|:-:|:-:|\n",
    "|White collar|90|60|104|95|\n",
    "|Blue collar |30|50| 51|20|\n",
    "|No collar   |30|40|45|35|\n",
    "\n",
    "From this two features, we will measure the value of the Chi Sq. and the information gain, to decide on whether these two variables are **highly correlated** or not."
   ]
  },
  {
   "cell_type": "code",
   "execution_count": 1,
   "metadata": {
    "inputHidden": false,
    "jupyter": {
     "outputs_hidden": false
    },
    "outputHidden": false,
    "slideshow": {
     "slide_type": "slide"
    }
   },
   "outputs": [],
   "source": [
    "import numpy as np\n",
    "\n",
    "from math import log2\n",
    "from sklearn.feature_selection import mutual_info_classif\n",
    "from scipy import stats\n",
    "\n",
    "white_collar = [90, 60, 104, 95]\n",
    "blue_collar = [30, 50, 51, 20]\n",
    "no_collar = [30, 40, 45, 35]\n",
    "\n",
    "occupation = np.array([white_collar, blue_collar, no_collar])"
   ]
  },
  {
   "cell_type": "markdown",
   "metadata": {
    "slideshow": {
     "slide_type": "slide"
    }
   },
   "source": [
    "## Chi Squared Test\n",
    "\n",
    "Let's start by computing the Chi Sq., value. To do so, we call the method `chi2_contingency()`, to later access its internal variables, that will give us the information we need."
   ]
  },
  {
   "cell_type": "code",
   "execution_count": 2,
   "metadata": {
    "inputHidden": false,
    "jupyter": {
     "outputs_hidden": false
    },
    "outputHidden": false,
    "slideshow": {
     "slide_type": "fragment"
    }
   },
   "outputs": [
    {
     "name": "stdout",
     "output_type": "stream",
     "text": [
      "Chi sq. stats: 24.57\n",
      "Degrees of freedom: 6\n",
      "P-value: 0.0004\n",
      "Contigency Table:\n",
      " [[ 80.53846154  80.53846154 107.38461538  80.53846154]\n",
      " [ 34.84615385  34.84615385  46.46153846  34.84615385]\n",
      " [ 34.61538462  34.61538462  46.15384615  34.61538462]]\n"
     ]
    }
   ],
   "source": [
    "chi2, p_value, dof, cont_table = stats.chi2_contingency(occupation)\n",
    "\n",
    "print('Chi sq. stats: {:.2f}'.format(chi2))\n",
    "print('Degrees of freedom: {}'.format(dof))\n",
    "print('P-value: {:.4f}'.format(p_value))\n",
    "print('Contigency Table:\\n', cont_table)"
   ]
  },
  {
   "cell_type": "markdown",
   "metadata": {
    "slideshow": {
     "slide_type": "slide"
    }
   },
   "source": [
    "Remember that the _NULL Hypothesis_ states that the two variables are INDEPENDENT. If the p-value that we obtain by computing the $\\chi^2$ statistic is lower than the significance level, then we should **reject** that hypothesis.\n",
    "\n",
    "In this case $\\chi^2 < 0.05$ which means that both, neighbourhood and occupation are **dependent**. "
   ]
  },
  {
   "cell_type": "markdown",
   "metadata": {
    "slideshow": {
     "slide_type": "slide"
    }
   },
   "source": [
    "## Information Gain, Mutual Information\n",
    "\n",
    "To compute information gain I decided to develop a very simple method that takes as argument the probabilities associated with the internal values of a binomial class, and returns the entropy as per the following formula:\n",
    "\n",
    "$$ H(class) = - \\sum_{i=1}^{2} P(e_i) \\cdot log_2 P(e_i) = P(e_0)log_2 P(e_0) + P(e_1)log_2 P(e_1) $$\n",
    "\n",
    "It will be easy to transform this function into a more general one that will accept multinomial classes.\n",
    "\n",
    "Data used corresponds to the example used in class where:\n",
    "\n",
    "|Sex|Pulse|\n",
    "|:-|-:|\n",
    "|Female|100|\n",
    "|Male|25|\n",
    "|Male|100|\n",
    "|Male|25|\n",
    "|Male|50|\n",
    "|Female|75|\n",
    "|Male|100|\n",
    "|Female|75|\n",
    "|Male|75|\n",
    "|Male|100|\n"
   ]
  },
  {
   "cell_type": "code",
   "execution_count": 3,
   "metadata": {
    "inputHidden": false,
    "jupyter": {
     "outputs_hidden": false
    },
    "outputHidden": false,
    "slideshow": {
     "slide_type": "slide"
    }
   },
   "outputs": [],
   "source": [
    "# calculate the entropy for the split in the dataset\n",
    "def entropy(class0, class1):\n",
    "    if class0 == 0.:           # Prevent from crashing at log(0)\n",
    "        class0_entropy = 0.\n",
    "    else:\n",
    "        class0_entropy = class0 * log2(class0)\n",
    "        \n",
    "    if class1 == 0.:           # Prevent from crashing at log(0)\n",
    "        class1_entropy = 0.\n",
    "    else:\n",
    "        class1_entropy = class1 * log2(class1)\n",
    "        \n",
    "    return -(class0_entropy + class1_entropy)"
   ]
  },
  {
   "cell_type": "code",
   "execution_count": 4,
   "metadata": {
    "inputHidden": false,
    "jupyter": {
     "source_hidden": true
    },
    "outputHidden": false,
    "slideshow": {
     "slide_type": "slide"
    }
   },
   "outputs": [
    {
     "name": "stdout",
     "output_type": "stream",
     "text": [
      "Sex Entropy:           0.8813\n",
      "Pulse  25 Entropy:    -0.0000\n",
      "Pulse  50 Entropy:    -0.0000\n",
      "Pulse  75 Entropy:     0.9183\n",
      "Pulse 100 Entropy:     0.8113\n",
      "--\n",
      "Information gain.:     0.2813\n"
     ]
    }
   ],
   "source": [
    "s_entropy = entropy(3./10., 7./10.)\n",
    "print('Sex Entropy: {:>16.4f}'.format(s_entropy))\n",
    "\n",
    "p25_entropy = entropy(2./2., 0./2.)\n",
    "print('Pulse  25 Entropy: {:>10.4f}'.format(p25_entropy))\n",
    "p50_entropy = entropy(1./1., 0./1.)\n",
    "print('Pulse  50 Entropy: {:>10.4f}'.format(p50_entropy))\n",
    "p75_entropy = entropy(1./3., 2./3.)\n",
    "print('Pulse  75 Entropy: {:>10.4f}'.format(p75_entropy))\n",
    "p100_entropy = entropy(3./4., 1./4.)\n",
    "print('Pulse 100 Entropy: {:>10.4f}'.format(p100_entropy))\n",
    "\n",
    "gain = s_entropy - (\n",
    "    (2./10.* p25_entropy) + \n",
    "    (1./10.* p50_entropy) + \n",
    "    (3./10.* p75_entropy) + \n",
    "    (4./10.* p100_entropy))\n",
    "print('--\\nInformation gain.: {:>10.4f}'.format(gain))"
   ]
  },
  {
   "cell_type": "markdown",
   "metadata": {
    "slideshow": {
     "slide_type": "slide"
    }
   },
   "source": [
    "As a conclussion, we cannot give a general rule that will decide whether or not to reject feature `Pulse` based on the IG value. What we normally do is to compare the IG value from all the fatures in our dataset and try different threshold values to reject features from."
   ]
  },
  {
   "cell_type": "markdown",
   "metadata": {
    "slideshow": {
     "slide_type": "slide"
    }
   },
   "source": [
    "## Mutual Information\n",
    "\n",
    "Just for the sake of completitud, I include here how to use mutual information from scikit learn library. Results from MI and IG should be equivalent."
   ]
  },
  {
   "cell_type": "code",
   "execution_count": 5,
   "metadata": {
    "inputHidden": false,
    "jupyter": {
     "outputs_hidden": false
    },
    "outputHidden": false,
    "slideshow": {
     "slide_type": "fragment"
    }
   },
   "outputs": [],
   "source": [
    "pulse = np.array([[100, 25, 100, 25, 50, 75, 100, 75, 75, 100]])\n",
    "sex = np.array( [1,0,0,0,0,1,0,1,0,0])"
   ]
  },
  {
   "cell_type": "code",
   "execution_count": 6,
   "metadata": {
    "inputHidden": false,
    "jupyter": {
     "outputs_hidden": false
    },
    "outputHidden": false,
    "slideshow": {
     "slide_type": "fragment"
    }
   },
   "outputs": [
    {
     "name": "stdout",
     "output_type": "stream",
     "text": [
      "MI = 0.1950\n"
     ]
    }
   ],
   "source": [
    "feature_scores = mutual_info_classif(pulse.T, sex, discrete_features=True, n_neighbors=10)\n",
    "print('MI = {:.4f}'.format(feature_scores[0]))"
   ]
  }
 ],
 "metadata": {
  "celltoolbar": "Slideshow",
  "kernel_info": {
   "name": "python3"
  },
  "kernelspec": {
   "display_name": "Python 3",
   "language": "python",
   "name": "python3"
  },
  "language_info": {
   "codemirror_mode": {
    "name": "ipython",
    "version": 3
   },
   "file_extension": ".py",
   "mimetype": "text/x-python",
   "name": "python",
   "nbconvert_exporter": "python",
   "pygments_lexer": "ipython3",
   "version": "3.8.1"
  },
  "nteract": {
   "version": "0.15.0"
  },
  "toc": {
   "base_numbering": 1,
   "nav_menu": {},
   "number_sections": true,
   "sideBar": true,
   "skip_h1_title": false,
   "title_cell": "Table of Contents",
   "title_sidebar": "Contents",
   "toc_cell": true,
   "toc_position": {},
   "toc_section_display": true,
   "toc_window_display": false
  }
 },
 "nbformat": 4,
 "nbformat_minor": 4
}
